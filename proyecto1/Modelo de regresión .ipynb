{
 "cells": [
  {
   "cell_type": "code",
   "execution_count": 234,
   "id": "a4f4dfd4",
   "metadata": {},
   "outputs": [],
   "source": [
    "import pandas as pd \n",
    "import numpy as np \n",
    "from scipy import stats\n",
    "from matplotlib import pyplot as plt\n",
    "import statsmodels.api as sm\n",
    "from sklearn.linear_model import LinearRegression\n",
    "from sklearn.metrics import mean_squared_error\n",
    "from datetime import datetime, timedelta"
   ]
  },
  {
   "cell_type": "code",
   "execution_count": 235,
   "id": "0d99217d",
   "metadata": {},
   "outputs": [],
   "source": [
    "locatel = pd.read_csv('C:/Users/Tania/Downloads/base-integrale-140322.csv')"
   ]
  },
  {
   "cell_type": "code",
   "execution_count": 236,
   "id": "e723c386",
   "metadata": {},
   "outputs": [
    {
     "data": {
      "text/plain": [
       "(1048575, 28)"
      ]
     },
     "execution_count": 236,
     "metadata": {},
     "output_type": "execute_result"
    }
   ],
   "source": [
    "locatel.shape"
   ]
  },
  {
   "cell_type": "code",
   "execution_count": 237,
   "id": "f9e9c0d4",
   "metadata": {},
   "outputs": [
    {
     "data": {
      "text/html": [
       "<div>\n",
       "<style scoped>\n",
       "    .dataframe tbody tr th:only-of-type {\n",
       "        vertical-align: middle;\n",
       "    }\n",
       "\n",
       "    .dataframe tbody tr th {\n",
       "        vertical-align: top;\n",
       "    }\n",
       "\n",
       "    .dataframe thead th {\n",
       "        text-align: right;\n",
       "    }\n",
       "</style>\n",
       "<table border=\"1\" class=\"dataframe\">\n",
       "  <thead>\n",
       "    <tr style=\"text-align: right;\">\n",
       "      <th></th>\n",
       "      <th>FOLIO</th>\n",
       "      <th>FECHA_ALTA</th>\n",
       "      <th>A�O_ALTA</th>\n",
       "      <th>MES_ALTA</th>\n",
       "      <th>D�A_ALTA</th>\n",
       "      <th>HORA_ALTA</th>\n",
       "      <th>SEXO</th>\n",
       "      <th>EDAD</th>\n",
       "      <th>ESTADO_CIVIL</th>\n",
       "      <th>OCUPACION</th>\n",
       "      <th>...</th>\n",
       "      <th>CP_HECHOS</th>\n",
       "      <th>ORIGEN</th>\n",
       "      <th>SERVICIO</th>\n",
       "      <th>TEMATICA_1</th>\n",
       "      <th>TEMATICA_2</th>\n",
       "      <th>TEMATICA_3</th>\n",
       "      <th>TEMATICA_4</th>\n",
       "      <th>TEMATICA_5</th>\n",
       "      <th>TEMATICA_6</th>\n",
       "      <th>TEMATICA_7</th>\n",
       "    </tr>\n",
       "  </thead>\n",
       "  <tbody>\n",
       "    <tr>\n",
       "      <th>0</th>\n",
       "      <td>3011.0</td>\n",
       "      <td>2016-11-01</td>\n",
       "      <td>2016</td>\n",
       "      <td>11</td>\n",
       "      <td>1</td>\n",
       "      <td>0</td>\n",
       "      <td>MASCULINO</td>\n",
       "      <td>34</td>\n",
       "      <td>CASADO (A)</td>\n",
       "      <td>EMPLEADO (A)</td>\n",
       "      <td>...</td>\n",
       "      <td>11260.0</td>\n",
       "      <td>ASESOR�A</td>\n",
       "      <td>JUR�DICO</td>\n",
       "      <td>INFORMACION GENERAL</td>\n",
       "      <td>FUNDAMENTOS LEGALES</td>\n",
       "      <td>NaN</td>\n",
       "      <td>NaN</td>\n",
       "      <td>NaN</td>\n",
       "      <td>NaN</td>\n",
       "      <td>NaN</td>\n",
       "    </tr>\n",
       "    <tr>\n",
       "      <th>1</th>\n",
       "      <td>3012.0</td>\n",
       "      <td>2016-11-01</td>\n",
       "      <td>2016</td>\n",
       "      <td>11</td>\n",
       "      <td>1</td>\n",
       "      <td>0</td>\n",
       "      <td>FEMENINO</td>\n",
       "      <td>54</td>\n",
       "      <td>SOLTERO (A)</td>\n",
       "      <td>EMPLEADO (A)</td>\n",
       "      <td>...</td>\n",
       "      <td>NaN</td>\n",
       "      <td>ASESOR�A</td>\n",
       "      <td>JUR�DICO</td>\n",
       "      <td>INFORMACION GENERAL</td>\n",
       "      <td>DEPENDENCIAS ADMINISTRATIVAS</td>\n",
       "      <td>REFERENCIA INSTITUCIONAL</td>\n",
       "      <td>NaN</td>\n",
       "      <td>NaN</td>\n",
       "      <td>NaN</td>\n",
       "      <td>NaN</td>\n",
       "    </tr>\n",
       "    <tr>\n",
       "      <th>2</th>\n",
       "      <td>3013.0</td>\n",
       "      <td>2016-11-01</td>\n",
       "      <td>2016</td>\n",
       "      <td>11</td>\n",
       "      <td>1</td>\n",
       "      <td>0</td>\n",
       "      <td>FEMENINO</td>\n",
       "      <td>42</td>\n",
       "      <td>SOLTERO (A)</td>\n",
       "      <td>EMPLEADO (A)</td>\n",
       "      <td>...</td>\n",
       "      <td>7330.0</td>\n",
       "      <td>ASESOR�A</td>\n",
       "      <td>JUR�DICO</td>\n",
       "      <td>PENAL</td>\n",
       "      <td>DELITOS CONTRA LA LIBERTAD Y LA SEGURIDAD SEXU...</td>\n",
       "      <td>ABUSO SEXUAL</td>\n",
       "      <td>MENORES DE EDAD</td>\n",
       "      <td>NaN</td>\n",
       "      <td>NaN</td>\n",
       "      <td>NaN</td>\n",
       "    </tr>\n",
       "    <tr>\n",
       "      <th>3</th>\n",
       "      <td>3014.0</td>\n",
       "      <td>2016-11-01</td>\n",
       "      <td>2016</td>\n",
       "      <td>11</td>\n",
       "      <td>1</td>\n",
       "      <td>1</td>\n",
       "      <td>FEMENINO</td>\n",
       "      <td>40</td>\n",
       "      <td>SOLTERO (A)</td>\n",
       "      <td>DESEMPLEADO (A)</td>\n",
       "      <td>...</td>\n",
       "      <td>2100.0</td>\n",
       "      <td>ASESOR�A</td>\n",
       "      <td>JUR�DICO</td>\n",
       "      <td>PENAL</td>\n",
       "      <td>DELITOS CONTRA LA INTEGRIDAD FAMILIAR</td>\n",
       "      <td>VIOLENCIA FAMILIAR</td>\n",
       "      <td>NaN</td>\n",
       "      <td>NaN</td>\n",
       "      <td>NaN</td>\n",
       "      <td>NaN</td>\n",
       "    </tr>\n",
       "    <tr>\n",
       "      <th>4</th>\n",
       "      <td>3015.0</td>\n",
       "      <td>2016-11-01</td>\n",
       "      <td>2016</td>\n",
       "      <td>11</td>\n",
       "      <td>1</td>\n",
       "      <td>1</td>\n",
       "      <td>FEMENINO</td>\n",
       "      <td>55</td>\n",
       "      <td>SOLTERO (A)</td>\n",
       "      <td>EMPLEADO (A)</td>\n",
       "      <td>...</td>\n",
       "      <td>NaN</td>\n",
       "      <td>ASESOR�A</td>\n",
       "      <td>JUR�DICO</td>\n",
       "      <td>INFORMACION GENERAL</td>\n",
       "      <td>GARANTIAS DEL GOBERNADO</td>\n",
       "      <td>NaN</td>\n",
       "      <td>NaN</td>\n",
       "      <td>NaN</td>\n",
       "      <td>NaN</td>\n",
       "      <td>NaN</td>\n",
       "    </tr>\n",
       "  </tbody>\n",
       "</table>\n",
       "<p>5 rows × 28 columns</p>\n",
       "</div>"
      ],
      "text/plain": [
       "    FOLIO  FECHA_ALTA  A�O_ALTA  MES_ALTA  D�A_ALTA  HORA_ALTA       SEXO  \\\n",
       "0  3011.0  2016-11-01      2016        11         1          0  MASCULINO   \n",
       "1  3012.0  2016-11-01      2016        11         1          0   FEMENINO   \n",
       "2  3013.0  2016-11-01      2016        11         1          0   FEMENINO   \n",
       "3  3014.0  2016-11-01      2016        11         1          1   FEMENINO   \n",
       "4  3015.0  2016-11-01      2016        11         1          1   FEMENINO   \n",
       "\n",
       "   EDAD ESTADO_CIVIL        OCUPACION  ... CP_HECHOS    ORIGEN  SERVICIO  \\\n",
       "0    34   CASADO (A)     EMPLEADO (A)  ...   11260.0  ASESOR�A  JUR�DICO   \n",
       "1    54  SOLTERO (A)     EMPLEADO (A)  ...       NaN  ASESOR�A  JUR�DICO   \n",
       "2    42  SOLTERO (A)     EMPLEADO (A)  ...    7330.0  ASESOR�A  JUR�DICO   \n",
       "3    40  SOLTERO (A)  DESEMPLEADO (A)  ...    2100.0  ASESOR�A  JUR�DICO   \n",
       "4    55  SOLTERO (A)     EMPLEADO (A)  ...       NaN  ASESOR�A  JUR�DICO   \n",
       "\n",
       "            TEMATICA_1                                         TEMATICA_2  \\\n",
       "0  INFORMACION GENERAL                                FUNDAMENTOS LEGALES   \n",
       "1  INFORMACION GENERAL                       DEPENDENCIAS ADMINISTRATIVAS   \n",
       "2                PENAL  DELITOS CONTRA LA LIBERTAD Y LA SEGURIDAD SEXU...   \n",
       "3                PENAL              DELITOS CONTRA LA INTEGRIDAD FAMILIAR   \n",
       "4  INFORMACION GENERAL                            GARANTIAS DEL GOBERNADO   \n",
       "\n",
       "                 TEMATICA_3       TEMATICA_4 TEMATICA_5  TEMATICA_6 TEMATICA_7  \n",
       "0                       NaN              NaN        NaN         NaN        NaN  \n",
       "1  REFERENCIA INSTITUCIONAL              NaN        NaN         NaN        NaN  \n",
       "2              ABUSO SEXUAL  MENORES DE EDAD        NaN         NaN        NaN  \n",
       "3        VIOLENCIA FAMILIAR              NaN        NaN         NaN        NaN  \n",
       "4                       NaN              NaN        NaN         NaN        NaN  \n",
       "\n",
       "[5 rows x 28 columns]"
      ]
     },
     "execution_count": 237,
     "metadata": {},
     "output_type": "execute_result"
    }
   ],
   "source": [
    "locatel.head()"
   ]
  },
  {
   "cell_type": "code",
   "execution_count": 238,
   "id": "29abaafd",
   "metadata": {},
   "outputs": [
    {
     "data": {
      "text/plain": [
       "'2022-02-13'"
      ]
     },
     "execution_count": 238,
     "metadata": {},
     "output_type": "execute_result"
    }
   ],
   "source": [
    "locatel.FECHA_ALTA.max()"
   ]
  },
  {
   "cell_type": "code",
   "execution_count": 239,
   "id": "f1641f33",
   "metadata": {},
   "outputs": [],
   "source": [
    "locatel[\"FECHA_ALTA\"] = pd.to_datetime(locatel[\"FECHA_ALTA\"])"
   ]
  },
  {
   "cell_type": "code",
   "execution_count": 240,
   "id": "bbed1359",
   "metadata": {},
   "outputs": [],
   "source": [
    "localtel_diario = locatel.groupby([\"FECHA_ALTA\", \"TEMATICA_1\"])[\"FOLIO\"].count()"
   ]
  },
  {
   "cell_type": "code",
   "execution_count": 241,
   "id": "ea10238d",
   "metadata": {},
   "outputs": [],
   "source": [
    "localtel_diario = localtel_diario.xs(\"VIOLENCIA\", level = 1)"
   ]
  },
  {
   "cell_type": "code",
   "execution_count": 242,
   "id": "fde0f227",
   "metadata": {},
   "outputs": [],
   "source": [
    "localtel_diario = localtel_diario.to_frame().reset_index()"
   ]
  },
  {
   "cell_type": "code",
   "execution_count": 243,
   "id": "0787039e",
   "metadata": {},
   "outputs": [],
   "source": [
    "import datetime"
   ]
  },
  {
   "cell_type": "code",
   "execution_count": 244,
   "id": "844df910",
   "metadata": {},
   "outputs": [
    {
     "data": {
      "text/plain": [
       "datetime.datetime(2020, 3, 13, 0, 0)"
      ]
     },
     "execution_count": 244,
     "metadata": {},
     "output_type": "execute_result"
    }
   ],
   "source": [
    "format = \"%Y-%m-%d\"\n",
    "fecha_covid = datetime.datetime.strptime(\"2020-03-13\", format)\n",
    "fecha_covid"
   ]
  },
  {
   "cell_type": "code",
   "execution_count": 245,
   "id": "979f34ab",
   "metadata": {},
   "outputs": [],
   "source": [
    "localtel_diario['covid'] = localtel_diario[\"FECHA_ALTA\"].apply(lambda fecha: 1 if fecha > fecha_covid else 0)"
   ]
  },
  {
   "cell_type": "code",
   "execution_count": 250,
   "id": "2dc5bab6",
   "metadata": {},
   "outputs": [],
   "source": [
    "#Base de datos de restricciones covid \n",
    "restricciones = pd.read_csv('C:/Users/Tania/Downloads/covid-stringency-index.csv')"
   ]
  },
  {
   "cell_type": "code",
   "execution_count": 251,
   "id": "7dd234fe",
   "metadata": {
    "scrolled": true
   },
   "outputs": [
    {
     "data": {
      "text/html": [
       "<div>\n",
       "<style scoped>\n",
       "    .dataframe tbody tr th:only-of-type {\n",
       "        vertical-align: middle;\n",
       "    }\n",
       "\n",
       "    .dataframe tbody tr th {\n",
       "        vertical-align: top;\n",
       "    }\n",
       "\n",
       "    .dataframe thead th {\n",
       "        text-align: right;\n",
       "    }\n",
       "</style>\n",
       "<table border=\"1\" class=\"dataframe\">\n",
       "  <thead>\n",
       "    <tr style=\"text-align: right;\">\n",
       "      <th></th>\n",
       "      <th>Entity</th>\n",
       "      <th>Code</th>\n",
       "      <th>Day</th>\n",
       "      <th>stringency_index</th>\n",
       "    </tr>\n",
       "  </thead>\n",
       "  <tbody>\n",
       "    <tr>\n",
       "      <th>0</th>\n",
       "      <td>Afghanistan</td>\n",
       "      <td>AFG</td>\n",
       "      <td>2020-01-21</td>\n",
       "      <td>0.0</td>\n",
       "    </tr>\n",
       "    <tr>\n",
       "      <th>1</th>\n",
       "      <td>Afghanistan</td>\n",
       "      <td>AFG</td>\n",
       "      <td>2020-01-22</td>\n",
       "      <td>0.0</td>\n",
       "    </tr>\n",
       "    <tr>\n",
       "      <th>2</th>\n",
       "      <td>Afghanistan</td>\n",
       "      <td>AFG</td>\n",
       "      <td>2020-01-23</td>\n",
       "      <td>0.0</td>\n",
       "    </tr>\n",
       "    <tr>\n",
       "      <th>3</th>\n",
       "      <td>Afghanistan</td>\n",
       "      <td>AFG</td>\n",
       "      <td>2020-01-24</td>\n",
       "      <td>0.0</td>\n",
       "    </tr>\n",
       "    <tr>\n",
       "      <th>4</th>\n",
       "      <td>Afghanistan</td>\n",
       "      <td>AFG</td>\n",
       "      <td>2020-01-25</td>\n",
       "      <td>0.0</td>\n",
       "    </tr>\n",
       "  </tbody>\n",
       "</table>\n",
       "</div>"
      ],
      "text/plain": [
       "        Entity Code         Day  stringency_index\n",
       "0  Afghanistan  AFG  2020-01-21               0.0\n",
       "1  Afghanistan  AFG  2020-01-22               0.0\n",
       "2  Afghanistan  AFG  2020-01-23               0.0\n",
       "3  Afghanistan  AFG  2020-01-24               0.0\n",
       "4  Afghanistan  AFG  2020-01-25               0.0"
      ]
     },
     "execution_count": 251,
     "metadata": {},
     "output_type": "execute_result"
    }
   ],
   "source": [
    "restricciones.head()"
   ]
  },
  {
   "cell_type": "code",
   "execution_count": 252,
   "id": "c19fc0b0",
   "metadata": {},
   "outputs": [],
   "source": [
    "restricciones=restricciones[restricciones.Code==\"MEX\"]"
   ]
  },
  {
   "cell_type": "code",
   "execution_count": 253,
   "id": "7e9702f0",
   "metadata": {},
   "outputs": [
    {
     "data": {
      "text/html": [
       "<div>\n",
       "<style scoped>\n",
       "    .dataframe tbody tr th:only-of-type {\n",
       "        vertical-align: middle;\n",
       "    }\n",
       "\n",
       "    .dataframe tbody tr th {\n",
       "        vertical-align: top;\n",
       "    }\n",
       "\n",
       "    .dataframe thead th {\n",
       "        text-align: right;\n",
       "    }\n",
       "</style>\n",
       "<table border=\"1\" class=\"dataframe\">\n",
       "  <thead>\n",
       "    <tr style=\"text-align: right;\">\n",
       "      <th></th>\n",
       "      <th>Entity</th>\n",
       "      <th>Code</th>\n",
       "      <th>Day</th>\n",
       "      <th>stringency_index</th>\n",
       "    </tr>\n",
       "  </thead>\n",
       "  <tbody>\n",
       "    <tr>\n",
       "      <th>85377</th>\n",
       "      <td>Mexico</td>\n",
       "      <td>MEX</td>\n",
       "      <td>2020-01-21</td>\n",
       "      <td>0.0</td>\n",
       "    </tr>\n",
       "    <tr>\n",
       "      <th>85378</th>\n",
       "      <td>Mexico</td>\n",
       "      <td>MEX</td>\n",
       "      <td>2020-01-22</td>\n",
       "      <td>0.0</td>\n",
       "    </tr>\n",
       "    <tr>\n",
       "      <th>85379</th>\n",
       "      <td>Mexico</td>\n",
       "      <td>MEX</td>\n",
       "      <td>2020-01-23</td>\n",
       "      <td>0.0</td>\n",
       "    </tr>\n",
       "    <tr>\n",
       "      <th>85380</th>\n",
       "      <td>Mexico</td>\n",
       "      <td>MEX</td>\n",
       "      <td>2020-01-24</td>\n",
       "      <td>0.0</td>\n",
       "    </tr>\n",
       "    <tr>\n",
       "      <th>85381</th>\n",
       "      <td>Mexico</td>\n",
       "      <td>MEX</td>\n",
       "      <td>2020-01-25</td>\n",
       "      <td>0.0</td>\n",
       "    </tr>\n",
       "  </tbody>\n",
       "</table>\n",
       "</div>"
      ],
      "text/plain": [
       "       Entity Code         Day  stringency_index\n",
       "85377  Mexico  MEX  2020-01-21               0.0\n",
       "85378  Mexico  MEX  2020-01-22               0.0\n",
       "85379  Mexico  MEX  2020-01-23               0.0\n",
       "85380  Mexico  MEX  2020-01-24               0.0\n",
       "85381  Mexico  MEX  2020-01-25               0.0"
      ]
     },
     "execution_count": 253,
     "metadata": {},
     "output_type": "execute_result"
    }
   ],
   "source": [
    "restricciones.head()"
   ]
  },
  {
   "cell_type": "code",
   "execution_count": 254,
   "id": "17f69452",
   "metadata": {},
   "outputs": [],
   "source": [
    "restricciones=restricciones[[\"Day\",\"stringency_index\"]].rename({\"Day\":\"FECHA_ALTA\"}, axis = 1)"
   ]
  },
  {
   "cell_type": "code",
   "execution_count": 255,
   "id": "4ece2316",
   "metadata": {},
   "outputs": [],
   "source": [
    "restricciones[\"FECHA_ALTA\"] = pd.to_datetime(restricciones[\"FECHA_ALTA\"])"
   ]
  },
  {
   "cell_type": "code",
   "execution_count": 256,
   "id": "0d1d50c2",
   "metadata": {},
   "outputs": [
    {
     "data": {
      "text/plain": [
       "Timestamp('2022-03-20 00:00:00')"
      ]
     },
     "execution_count": 256,
     "metadata": {},
     "output_type": "execute_result"
    }
   ],
   "source": [
    "restricciones.FECHA_ALTA.max()"
   ]
  },
  {
   "cell_type": "code",
   "execution_count": 257,
   "id": "4f977e13",
   "metadata": {},
   "outputs": [
    {
     "data": {
      "text/html": [
       "<div>\n",
       "<style scoped>\n",
       "    .dataframe tbody tr th:only-of-type {\n",
       "        vertical-align: middle;\n",
       "    }\n",
       "\n",
       "    .dataframe tbody tr th {\n",
       "        vertical-align: top;\n",
       "    }\n",
       "\n",
       "    .dataframe thead th {\n",
       "        text-align: right;\n",
       "    }\n",
       "</style>\n",
       "<table border=\"1\" class=\"dataframe\">\n",
       "  <thead>\n",
       "    <tr style=\"text-align: right;\">\n",
       "      <th></th>\n",
       "      <th>FECHA_ALTA</th>\n",
       "      <th>stringency_index</th>\n",
       "    </tr>\n",
       "  </thead>\n",
       "  <tbody>\n",
       "    <tr>\n",
       "      <th>86089</th>\n",
       "      <td>2022-01-02</td>\n",
       "      <td>31.48</td>\n",
       "    </tr>\n",
       "    <tr>\n",
       "      <th>86090</th>\n",
       "      <td>2022-01-03</td>\n",
       "      <td>31.48</td>\n",
       "    </tr>\n",
       "    <tr>\n",
       "      <th>86091</th>\n",
       "      <td>2022-01-04</td>\n",
       "      <td>31.48</td>\n",
       "    </tr>\n",
       "    <tr>\n",
       "      <th>86092</th>\n",
       "      <td>2022-01-05</td>\n",
       "      <td>31.48</td>\n",
       "    </tr>\n",
       "    <tr>\n",
       "      <th>86093</th>\n",
       "      <td>2022-01-06</td>\n",
       "      <td>31.48</td>\n",
       "    </tr>\n",
       "    <tr>\n",
       "      <th>...</th>\n",
       "      <td>...</td>\n",
       "      <td>...</td>\n",
       "    </tr>\n",
       "    <tr>\n",
       "      <th>86162</th>\n",
       "      <td>2022-03-16</td>\n",
       "      <td>35.19</td>\n",
       "    </tr>\n",
       "    <tr>\n",
       "      <th>86163</th>\n",
       "      <td>2022-03-17</td>\n",
       "      <td>35.19</td>\n",
       "    </tr>\n",
       "    <tr>\n",
       "      <th>86164</th>\n",
       "      <td>2022-03-18</td>\n",
       "      <td>35.19</td>\n",
       "    </tr>\n",
       "    <tr>\n",
       "      <th>86165</th>\n",
       "      <td>2022-03-19</td>\n",
       "      <td>35.19</td>\n",
       "    </tr>\n",
       "    <tr>\n",
       "      <th>86166</th>\n",
       "      <td>2022-03-20</td>\n",
       "      <td>35.19</td>\n",
       "    </tr>\n",
       "  </tbody>\n",
       "</table>\n",
       "<p>78 rows × 2 columns</p>\n",
       "</div>"
      ],
      "text/plain": [
       "      FECHA_ALTA  stringency_index\n",
       "86089 2022-01-02             31.48\n",
       "86090 2022-01-03             31.48\n",
       "86091 2022-01-04             31.48\n",
       "86092 2022-01-05             31.48\n",
       "86093 2022-01-06             31.48\n",
       "...          ...               ...\n",
       "86162 2022-03-16             35.19\n",
       "86163 2022-03-17             35.19\n",
       "86164 2022-03-18             35.19\n",
       "86165 2022-03-19             35.19\n",
       "86166 2022-03-20             35.19\n",
       "\n",
       "[78 rows x 2 columns]"
      ]
     },
     "execution_count": 257,
     "metadata": {},
     "output_type": "execute_result"
    }
   ],
   "source": [
    "restricciones[restricciones.FECHA_ALTA>\"2022-01-01\"]"
   ]
  },
  {
   "cell_type": "code",
   "execution_count": 258,
   "id": "514674c4",
   "metadata": {},
   "outputs": [],
   "source": [
    "localtel_diario = pd.merge(localtel_diario, restricciones, how = \"left\", left_on = \"FECHA_ALTA\", right_on = \"FECHA_ALTA\")"
   ]
  },
  {
   "cell_type": "code",
   "execution_count": 259,
   "id": "64fda5b1",
   "metadata": {},
   "outputs": [],
   "source": [
    "localtel_diario = localtel_diario.rename({\"FOLIO\":\"llamadas\"}, axis =1)"
   ]
  },
  {
   "cell_type": "code",
   "execution_count": 260,
   "id": "c19b45cc",
   "metadata": {
    "scrolled": true
   },
   "outputs": [
    {
     "data": {
      "text/plain": [
       "FECHA_ALTA             0\n",
       "llamadas               0\n",
       "covid                  0\n",
       "stringency_index    1165\n",
       "dtype: int64"
      ]
     },
     "execution_count": 260,
     "metadata": {},
     "output_type": "execute_result"
    }
   ],
   "source": [
    "localtel_diario.isna().sum()"
   ]
  },
  {
   "cell_type": "code",
   "execution_count": 261,
   "id": "9a45d3f0",
   "metadata": {},
   "outputs": [],
   "source": [
    "localtel_diario.stringency_index = localtel_diario.stringency_index.fillna(0)"
   ]
  },
  {
   "cell_type": "code",
   "execution_count": 262,
   "id": "d3db6663",
   "metadata": {},
   "outputs": [],
   "source": [
    "restricciones_tot=localtel_diario[[\"FECHA_ALTA\",\"stringency_index\"]]"
   ]
  },
  {
   "cell_type": "code",
   "execution_count": 263,
   "id": "301dceff",
   "metadata": {},
   "outputs": [],
   "source": [
    "restricciones_tot.to_csv(\"restricciones_tot.csv\")"
   ]
  },
  {
   "cell_type": "code",
   "execution_count": 264,
   "id": "50145c7a",
   "metadata": {},
   "outputs": [],
   "source": [
    "#Identificamos en que día de la semana y mus del año se hicieron las llamadas \n",
    "localtel_diario[\"dia\"] = localtel_diario[\"FECHA_ALTA\"].apply(lambda fecha: pd.Timestamp(f\"{fecha}\").day_name())\n",
    "localtel_diario[\"mes\"] = localtel_diario[\"FECHA_ALTA\"].apply(lambda fecha: pd.Timestamp(f\"{fecha}\").month_name())"
   ]
  },
  {
   "cell_type": "code",
   "execution_count": 265,
   "id": "0c0cf47d",
   "metadata": {},
   "outputs": [
    {
     "data": {
      "text/plain": [
       "covid\n",
       "0    13.296388\n",
       "1    32.015670\n",
       "Name: llamadas, dtype: float64"
      ]
     },
     "execution_count": 265,
     "metadata": {},
     "output_type": "execute_result"
    }
   ],
   "source": [
    "localtel_diario.groupby(\"covid\")[\"llamadas\"].mean()"
   ]
  },
  {
   "cell_type": "code",
   "execution_count": 266,
   "id": "1de94e06",
   "metadata": {},
   "outputs": [
    {
     "data": {
      "text/plain": [
       "dia\n",
       "Friday       21.003636\n",
       "Monday       22.430657\n",
       "Saturday     16.545788\n",
       "Sunday       16.076364\n",
       "Thursday     21.083636\n",
       "Tuesday      22.058394\n",
       "Wednesday    21.781022\n",
       "Name: llamadas, dtype: float64"
      ]
     },
     "execution_count": 266,
     "metadata": {},
     "output_type": "execute_result"
    }
   ],
   "source": [
    "localtel_diario.groupby(\"dia\")[\"llamadas\"].mean()"
   ]
  },
  {
   "cell_type": "code",
   "execution_count": 267,
   "id": "ad02152b",
   "metadata": {},
   "outputs": [
    {
     "data": {
      "text/plain": [
       "mes\n",
       "April        28.813333\n",
       "August       20.600000\n",
       "December     14.972826\n",
       "February     18.256757\n",
       "January      15.102151\n",
       "July         19.741935\n",
       "June         20.673333\n",
       "March        26.154839\n",
       "May          21.619355\n",
       "November     17.491525\n",
       "October      20.929032\n",
       "September    19.886667\n",
       "Name: llamadas, dtype: float64"
      ]
     },
     "execution_count": 267,
     "metadata": {},
     "output_type": "execute_result"
    }
   ],
   "source": [
    "localtel_diario.groupby(\"mes\")[\"llamadas\"].mean()"
   ]
  },
  {
   "cell_type": "code",
   "execution_count": 275,
   "id": "c476558d",
   "metadata": {},
   "outputs": [
    {
     "data": {
      "text/html": [
       "<div>\n",
       "<style scoped>\n",
       "    .dataframe tbody tr th:only-of-type {\n",
       "        vertical-align: middle;\n",
       "    }\n",
       "\n",
       "    .dataframe tbody tr th {\n",
       "        vertical-align: top;\n",
       "    }\n",
       "\n",
       "    .dataframe thead th {\n",
       "        text-align: right;\n",
       "    }\n",
       "</style>\n",
       "<table border=\"1\" class=\"dataframe\">\n",
       "  <thead>\n",
       "    <tr style=\"text-align: right;\">\n",
       "      <th></th>\n",
       "      <th>FECHA_ALTA</th>\n",
       "      <th>llamadas</th>\n",
       "      <th>covid</th>\n",
       "      <th>stringency_index</th>\n",
       "      <th>dia</th>\n",
       "      <th>mes</th>\n",
       "    </tr>\n",
       "  </thead>\n",
       "  <tbody>\n",
       "    <tr>\n",
       "      <th>0</th>\n",
       "      <td>2016-11-04</td>\n",
       "      <td>5</td>\n",
       "      <td>0</td>\n",
       "      <td>0.00</td>\n",
       "      <td>Friday</td>\n",
       "      <td>November</td>\n",
       "    </tr>\n",
       "    <tr>\n",
       "      <th>1</th>\n",
       "      <td>2016-11-05</td>\n",
       "      <td>1</td>\n",
       "      <td>0</td>\n",
       "      <td>0.00</td>\n",
       "      <td>Saturday</td>\n",
       "      <td>November</td>\n",
       "    </tr>\n",
       "    <tr>\n",
       "      <th>2</th>\n",
       "      <td>2016-11-06</td>\n",
       "      <td>6</td>\n",
       "      <td>0</td>\n",
       "      <td>0.00</td>\n",
       "      <td>Sunday</td>\n",
       "      <td>November</td>\n",
       "    </tr>\n",
       "    <tr>\n",
       "      <th>3</th>\n",
       "      <td>2016-11-07</td>\n",
       "      <td>13</td>\n",
       "      <td>0</td>\n",
       "      <td>0.00</td>\n",
       "      <td>Monday</td>\n",
       "      <td>November</td>\n",
       "    </tr>\n",
       "    <tr>\n",
       "      <th>4</th>\n",
       "      <td>2016-11-08</td>\n",
       "      <td>11</td>\n",
       "      <td>0</td>\n",
       "      <td>0.00</td>\n",
       "      <td>Tuesday</td>\n",
       "      <td>November</td>\n",
       "    </tr>\n",
       "    <tr>\n",
       "      <th>...</th>\n",
       "      <td>...</td>\n",
       "      <td>...</td>\n",
       "      <td>...</td>\n",
       "      <td>...</td>\n",
       "      <td>...</td>\n",
       "      <td>...</td>\n",
       "    </tr>\n",
       "    <tr>\n",
       "      <th>1915</th>\n",
       "      <td>2022-02-09</td>\n",
       "      <td>28</td>\n",
       "      <td>1</td>\n",
       "      <td>35.19</td>\n",
       "      <td>Wednesday</td>\n",
       "      <td>February</td>\n",
       "    </tr>\n",
       "    <tr>\n",
       "      <th>1916</th>\n",
       "      <td>2022-02-10</td>\n",
       "      <td>12</td>\n",
       "      <td>1</td>\n",
       "      <td>35.19</td>\n",
       "      <td>Thursday</td>\n",
       "      <td>February</td>\n",
       "    </tr>\n",
       "    <tr>\n",
       "      <th>1917</th>\n",
       "      <td>2022-02-11</td>\n",
       "      <td>20</td>\n",
       "      <td>1</td>\n",
       "      <td>35.19</td>\n",
       "      <td>Friday</td>\n",
       "      <td>February</td>\n",
       "    </tr>\n",
       "    <tr>\n",
       "      <th>1918</th>\n",
       "      <td>2022-02-12</td>\n",
       "      <td>11</td>\n",
       "      <td>1</td>\n",
       "      <td>35.19</td>\n",
       "      <td>Saturday</td>\n",
       "      <td>February</td>\n",
       "    </tr>\n",
       "    <tr>\n",
       "      <th>1919</th>\n",
       "      <td>2022-02-13</td>\n",
       "      <td>8</td>\n",
       "      <td>1</td>\n",
       "      <td>35.19</td>\n",
       "      <td>Sunday</td>\n",
       "      <td>February</td>\n",
       "    </tr>\n",
       "  </tbody>\n",
       "</table>\n",
       "<p>1920 rows × 6 columns</p>\n",
       "</div>"
      ],
      "text/plain": [
       "     FECHA_ALTA  llamadas  covid  stringency_index        dia       mes\n",
       "0    2016-11-04         5      0              0.00     Friday  November\n",
       "1    2016-11-05         1      0              0.00   Saturday  November\n",
       "2    2016-11-06         6      0              0.00     Sunday  November\n",
       "3    2016-11-07        13      0              0.00     Monday  November\n",
       "4    2016-11-08        11      0              0.00    Tuesday  November\n",
       "...         ...       ...    ...               ...        ...       ...\n",
       "1915 2022-02-09        28      1             35.19  Wednesday  February\n",
       "1916 2022-02-10        12      1             35.19   Thursday  February\n",
       "1917 2022-02-11        20      1             35.19     Friday  February\n",
       "1918 2022-02-12        11      1             35.19   Saturday  February\n",
       "1919 2022-02-13         8      1             35.19     Sunday  February\n",
       "\n",
       "[1920 rows x 6 columns]"
      ]
     },
     "execution_count": 275,
     "metadata": {},
     "output_type": "execute_result"
    }
   ],
   "source": [
    "localtel_diario"
   ]
  },
  {
   "cell_type": "code",
   "execution_count": 276,
   "id": "ead9d1d2",
   "metadata": {},
   "outputs": [],
   "source": [
    "localtel_diario.to_csv(\"dias.csv\")"
   ]
  },
  {
   "cell_type": "code",
   "execution_count": 29,
   "id": "8d0f7f80",
   "metadata": {},
   "outputs": [],
   "source": [
    "localtel_diario[\"lag1\"] = localtel_diario.llamadas.shift(1)"
   ]
  },
  {
   "cell_type": "code",
   "execution_count": 30,
   "id": "51e5de20",
   "metadata": {},
   "outputs": [],
   "source": [
    "localtel_diario = pd.get_dummies(data=localtel_diario, drop_first=False)"
   ]
  },
  {
   "cell_type": "code",
   "execution_count": 31,
   "id": "5807e905",
   "metadata": {},
   "outputs": [],
   "source": [
    "localtel_diario = localtel_diario.drop(0)"
   ]
  },
  {
   "cell_type": "code",
   "execution_count": 32,
   "id": "9266d0c2",
   "metadata": {},
   "outputs": [],
   "source": [
    "localtel_diario.to_csv(\"locatel_diario.csv\")"
   ]
  },
  {
   "cell_type": "markdown",
   "id": "2acc8aa4",
   "metadata": {},
   "source": [
    "**Intento1, usaremos como variable el indice de restriccion por pandemia**"
   ]
  },
  {
   "cell_type": "code",
   "execution_count": 57,
   "id": "0bc6aeff",
   "metadata": {},
   "outputs": [],
   "source": [
    "pred_vars = ['stringency_index', 'lag1', 'dia_Monday', 'dia_Saturday',\n",
    "       'dia_Friday', 'dia_Thursday', 'dia_Tuesday', 'dia_Wednesday',\n",
    "       'mes_August', 'mes_April', 'mes_February', 'mes_January', 'mes_July',\n",
    "       'mes_June', 'mes_March', 'mes_May', 'mes_November', 'mes_October',\n",
    "       'mes_September']"
   ]
  },
  {
   "cell_type": "code",
   "execution_count": 58,
   "id": "f50c8b8b",
   "metadata": {},
   "outputs": [],
   "source": [
    "X = localtel_diario[pred_vars]"
   ]
  },
  {
   "cell_type": "code",
   "execution_count": 59,
   "id": "fef8dcc5",
   "metadata": {},
   "outputs": [
    {
     "data": {
      "text/html": [
       "<div>\n",
       "<style scoped>\n",
       "    .dataframe tbody tr th:only-of-type {\n",
       "        vertical-align: middle;\n",
       "    }\n",
       "\n",
       "    .dataframe tbody tr th {\n",
       "        vertical-align: top;\n",
       "    }\n",
       "\n",
       "    .dataframe thead th {\n",
       "        text-align: right;\n",
       "    }\n",
       "</style>\n",
       "<table border=\"1\" class=\"dataframe\">\n",
       "  <thead>\n",
       "    <tr style=\"text-align: right;\">\n",
       "      <th></th>\n",
       "      <th>stringency_index</th>\n",
       "      <th>lag1</th>\n",
       "      <th>dia_Monday</th>\n",
       "      <th>dia_Saturday</th>\n",
       "      <th>dia_Friday</th>\n",
       "      <th>dia_Thursday</th>\n",
       "      <th>dia_Tuesday</th>\n",
       "      <th>dia_Wednesday</th>\n",
       "      <th>mes_August</th>\n",
       "      <th>mes_April</th>\n",
       "      <th>mes_February</th>\n",
       "      <th>mes_January</th>\n",
       "      <th>mes_July</th>\n",
       "      <th>mes_June</th>\n",
       "      <th>mes_March</th>\n",
       "      <th>mes_May</th>\n",
       "      <th>mes_November</th>\n",
       "      <th>mes_October</th>\n",
       "      <th>mes_September</th>\n",
       "    </tr>\n",
       "  </thead>\n",
       "  <tbody>\n",
       "    <tr>\n",
       "      <th>1</th>\n",
       "      <td>0.00</td>\n",
       "      <td>5.0</td>\n",
       "      <td>0</td>\n",
       "      <td>1</td>\n",
       "      <td>0</td>\n",
       "      <td>0</td>\n",
       "      <td>0</td>\n",
       "      <td>0</td>\n",
       "      <td>0</td>\n",
       "      <td>0</td>\n",
       "      <td>0</td>\n",
       "      <td>0</td>\n",
       "      <td>0</td>\n",
       "      <td>0</td>\n",
       "      <td>0</td>\n",
       "      <td>0</td>\n",
       "      <td>1</td>\n",
       "      <td>0</td>\n",
       "      <td>0</td>\n",
       "    </tr>\n",
       "    <tr>\n",
       "      <th>2</th>\n",
       "      <td>0.00</td>\n",
       "      <td>1.0</td>\n",
       "      <td>0</td>\n",
       "      <td>0</td>\n",
       "      <td>0</td>\n",
       "      <td>0</td>\n",
       "      <td>0</td>\n",
       "      <td>0</td>\n",
       "      <td>0</td>\n",
       "      <td>0</td>\n",
       "      <td>0</td>\n",
       "      <td>0</td>\n",
       "      <td>0</td>\n",
       "      <td>0</td>\n",
       "      <td>0</td>\n",
       "      <td>0</td>\n",
       "      <td>1</td>\n",
       "      <td>0</td>\n",
       "      <td>0</td>\n",
       "    </tr>\n",
       "    <tr>\n",
       "      <th>3</th>\n",
       "      <td>0.00</td>\n",
       "      <td>6.0</td>\n",
       "      <td>1</td>\n",
       "      <td>0</td>\n",
       "      <td>0</td>\n",
       "      <td>0</td>\n",
       "      <td>0</td>\n",
       "      <td>0</td>\n",
       "      <td>0</td>\n",
       "      <td>0</td>\n",
       "      <td>0</td>\n",
       "      <td>0</td>\n",
       "      <td>0</td>\n",
       "      <td>0</td>\n",
       "      <td>0</td>\n",
       "      <td>0</td>\n",
       "      <td>1</td>\n",
       "      <td>0</td>\n",
       "      <td>0</td>\n",
       "    </tr>\n",
       "    <tr>\n",
       "      <th>4</th>\n",
       "      <td>0.00</td>\n",
       "      <td>13.0</td>\n",
       "      <td>0</td>\n",
       "      <td>0</td>\n",
       "      <td>0</td>\n",
       "      <td>0</td>\n",
       "      <td>1</td>\n",
       "      <td>0</td>\n",
       "      <td>0</td>\n",
       "      <td>0</td>\n",
       "      <td>0</td>\n",
       "      <td>0</td>\n",
       "      <td>0</td>\n",
       "      <td>0</td>\n",
       "      <td>0</td>\n",
       "      <td>0</td>\n",
       "      <td>1</td>\n",
       "      <td>0</td>\n",
       "      <td>0</td>\n",
       "    </tr>\n",
       "    <tr>\n",
       "      <th>5</th>\n",
       "      <td>0.00</td>\n",
       "      <td>11.0</td>\n",
       "      <td>0</td>\n",
       "      <td>0</td>\n",
       "      <td>0</td>\n",
       "      <td>0</td>\n",
       "      <td>0</td>\n",
       "      <td>1</td>\n",
       "      <td>0</td>\n",
       "      <td>0</td>\n",
       "      <td>0</td>\n",
       "      <td>0</td>\n",
       "      <td>0</td>\n",
       "      <td>0</td>\n",
       "      <td>0</td>\n",
       "      <td>0</td>\n",
       "      <td>1</td>\n",
       "      <td>0</td>\n",
       "      <td>0</td>\n",
       "    </tr>\n",
       "    <tr>\n",
       "      <th>...</th>\n",
       "      <td>...</td>\n",
       "      <td>...</td>\n",
       "      <td>...</td>\n",
       "      <td>...</td>\n",
       "      <td>...</td>\n",
       "      <td>...</td>\n",
       "      <td>...</td>\n",
       "      <td>...</td>\n",
       "      <td>...</td>\n",
       "      <td>...</td>\n",
       "      <td>...</td>\n",
       "      <td>...</td>\n",
       "      <td>...</td>\n",
       "      <td>...</td>\n",
       "      <td>...</td>\n",
       "      <td>...</td>\n",
       "      <td>...</td>\n",
       "      <td>...</td>\n",
       "      <td>...</td>\n",
       "    </tr>\n",
       "    <tr>\n",
       "      <th>1915</th>\n",
       "      <td>35.19</td>\n",
       "      <td>16.0</td>\n",
       "      <td>0</td>\n",
       "      <td>0</td>\n",
       "      <td>0</td>\n",
       "      <td>0</td>\n",
       "      <td>0</td>\n",
       "      <td>1</td>\n",
       "      <td>0</td>\n",
       "      <td>0</td>\n",
       "      <td>1</td>\n",
       "      <td>0</td>\n",
       "      <td>0</td>\n",
       "      <td>0</td>\n",
       "      <td>0</td>\n",
       "      <td>0</td>\n",
       "      <td>0</td>\n",
       "      <td>0</td>\n",
       "      <td>0</td>\n",
       "    </tr>\n",
       "    <tr>\n",
       "      <th>1916</th>\n",
       "      <td>35.19</td>\n",
       "      <td>28.0</td>\n",
       "      <td>0</td>\n",
       "      <td>0</td>\n",
       "      <td>0</td>\n",
       "      <td>1</td>\n",
       "      <td>0</td>\n",
       "      <td>0</td>\n",
       "      <td>0</td>\n",
       "      <td>0</td>\n",
       "      <td>1</td>\n",
       "      <td>0</td>\n",
       "      <td>0</td>\n",
       "      <td>0</td>\n",
       "      <td>0</td>\n",
       "      <td>0</td>\n",
       "      <td>0</td>\n",
       "      <td>0</td>\n",
       "      <td>0</td>\n",
       "    </tr>\n",
       "    <tr>\n",
       "      <th>1917</th>\n",
       "      <td>35.19</td>\n",
       "      <td>12.0</td>\n",
       "      <td>0</td>\n",
       "      <td>0</td>\n",
       "      <td>1</td>\n",
       "      <td>0</td>\n",
       "      <td>0</td>\n",
       "      <td>0</td>\n",
       "      <td>0</td>\n",
       "      <td>0</td>\n",
       "      <td>1</td>\n",
       "      <td>0</td>\n",
       "      <td>0</td>\n",
       "      <td>0</td>\n",
       "      <td>0</td>\n",
       "      <td>0</td>\n",
       "      <td>0</td>\n",
       "      <td>0</td>\n",
       "      <td>0</td>\n",
       "    </tr>\n",
       "    <tr>\n",
       "      <th>1918</th>\n",
       "      <td>35.19</td>\n",
       "      <td>20.0</td>\n",
       "      <td>0</td>\n",
       "      <td>1</td>\n",
       "      <td>0</td>\n",
       "      <td>0</td>\n",
       "      <td>0</td>\n",
       "      <td>0</td>\n",
       "      <td>0</td>\n",
       "      <td>0</td>\n",
       "      <td>1</td>\n",
       "      <td>0</td>\n",
       "      <td>0</td>\n",
       "      <td>0</td>\n",
       "      <td>0</td>\n",
       "      <td>0</td>\n",
       "      <td>0</td>\n",
       "      <td>0</td>\n",
       "      <td>0</td>\n",
       "    </tr>\n",
       "    <tr>\n",
       "      <th>1919</th>\n",
       "      <td>35.19</td>\n",
       "      <td>11.0</td>\n",
       "      <td>0</td>\n",
       "      <td>0</td>\n",
       "      <td>0</td>\n",
       "      <td>0</td>\n",
       "      <td>0</td>\n",
       "      <td>0</td>\n",
       "      <td>0</td>\n",
       "      <td>0</td>\n",
       "      <td>1</td>\n",
       "      <td>0</td>\n",
       "      <td>0</td>\n",
       "      <td>0</td>\n",
       "      <td>0</td>\n",
       "      <td>0</td>\n",
       "      <td>0</td>\n",
       "      <td>0</td>\n",
       "      <td>0</td>\n",
       "    </tr>\n",
       "  </tbody>\n",
       "</table>\n",
       "<p>1919 rows × 19 columns</p>\n",
       "</div>"
      ],
      "text/plain": [
       "      stringency_index  lag1  dia_Monday  dia_Saturday  dia_Friday  \\\n",
       "1                 0.00   5.0           0             1           0   \n",
       "2                 0.00   1.0           0             0           0   \n",
       "3                 0.00   6.0           1             0           0   \n",
       "4                 0.00  13.0           0             0           0   \n",
       "5                 0.00  11.0           0             0           0   \n",
       "...                ...   ...         ...           ...         ...   \n",
       "1915             35.19  16.0           0             0           0   \n",
       "1916             35.19  28.0           0             0           0   \n",
       "1917             35.19  12.0           0             0           1   \n",
       "1918             35.19  20.0           0             1           0   \n",
       "1919             35.19  11.0           0             0           0   \n",
       "\n",
       "      dia_Thursday  dia_Tuesday  dia_Wednesday  mes_August  mes_April  \\\n",
       "1                0            0              0           0          0   \n",
       "2                0            0              0           0          0   \n",
       "3                0            0              0           0          0   \n",
       "4                0            1              0           0          0   \n",
       "5                0            0              1           0          0   \n",
       "...            ...          ...            ...         ...        ...   \n",
       "1915             0            0              1           0          0   \n",
       "1916             1            0              0           0          0   \n",
       "1917             0            0              0           0          0   \n",
       "1918             0            0              0           0          0   \n",
       "1919             0            0              0           0          0   \n",
       "\n",
       "      mes_February  mes_January  mes_July  mes_June  mes_March  mes_May  \\\n",
       "1                0            0         0         0          0        0   \n",
       "2                0            0         0         0          0        0   \n",
       "3                0            0         0         0          0        0   \n",
       "4                0            0         0         0          0        0   \n",
       "5                0            0         0         0          0        0   \n",
       "...            ...          ...       ...       ...        ...      ...   \n",
       "1915             1            0         0         0          0        0   \n",
       "1916             1            0         0         0          0        0   \n",
       "1917             1            0         0         0          0        0   \n",
       "1918             1            0         0         0          0        0   \n",
       "1919             1            0         0         0          0        0   \n",
       "\n",
       "      mes_November  mes_October  mes_September  \n",
       "1                1            0              0  \n",
       "2                1            0              0  \n",
       "3                1            0              0  \n",
       "4                1            0              0  \n",
       "5                1            0              0  \n",
       "...            ...          ...            ...  \n",
       "1915             0            0              0  \n",
       "1916             0            0              0  \n",
       "1917             0            0              0  \n",
       "1918             0            0              0  \n",
       "1919             0            0              0  \n",
       "\n",
       "[1919 rows x 19 columns]"
      ]
     },
     "execution_count": 59,
     "metadata": {},
     "output_type": "execute_result"
    }
   ],
   "source": [
    "X"
   ]
  },
  {
   "cell_type": "code",
   "execution_count": 60,
   "id": "be89e1e7",
   "metadata": {},
   "outputs": [],
   "source": [
    "y = localtel_diario.llamadas"
   ]
  },
  {
   "cell_type": "code",
   "execution_count": 61,
   "id": "75a85b8c",
   "metadata": {},
   "outputs": [
    {
     "data": {
      "text/plain": [
       "count    1919.000000\n",
       "mean       20.148515\n",
       "std        13.672214\n",
       "min         1.000000\n",
       "25%        11.000000\n",
       "50%        16.000000\n",
       "75%        26.500000\n",
       "max       102.000000\n",
       "Name: llamadas, dtype: float64"
      ]
     },
     "execution_count": 61,
     "metadata": {},
     "output_type": "execute_result"
    }
   ],
   "source": [
    "y.describe()"
   ]
  },
  {
   "cell_type": "code",
   "execution_count": 62,
   "id": "8b91aa34",
   "metadata": {},
   "outputs": [],
   "source": [
    "X_train=X[0:1739]\n",
    "X_test=X[1739:]"
   ]
  },
  {
   "cell_type": "code",
   "execution_count": 63,
   "id": "dc1130d1",
   "metadata": {},
   "outputs": [],
   "source": [
    "y_train=y[0:1739]\n",
    "y_test=y[1739:]"
   ]
  },
  {
   "cell_type": "code",
   "execution_count": 64,
   "id": "dc1cc57b",
   "metadata": {
    "scrolled": true
   },
   "outputs": [
    {
     "name": "stdout",
     "output_type": "stream",
     "text": [
      "                            OLS Regression Results                            \n",
      "==============================================================================\n",
      "Dep. Variable:               llamadas   R-squared:                       0.717\n",
      "Model:                            OLS   Adj. R-squared:                  0.714\n",
      "Method:                 Least Squares   F-statistic:                     252.9\n",
      "Date:                Fri, 25 Mar 2022   Prob (F-statistic):               0.00\n",
      "Time:                        10:47:31   Log-Likelihood:                -6531.1\n",
      "No. Observations:                1919   AIC:                         1.310e+04\n",
      "Df Residuals:                    1899   BIC:                         1.321e+04\n",
      "Df Model:                          19                                         \n",
      "Covariance Type:            nonrobust                                         \n",
      "====================================================================================\n",
      "                       coef    std err          t      P>|t|      [0.025      0.975]\n",
      "------------------------------------------------------------------------------------\n",
      "stringency_index     0.1366      0.008     16.407      0.000       0.120       0.153\n",
      "lag1                 0.5686      0.019     29.858      0.000       0.531       0.606\n",
      "dia_Monday           6.5805      0.624     10.541      0.000       5.356       7.805\n",
      "dia_Saturday        -2.1593      0.631     -3.424      0.001      -3.396      -0.922\n",
      "dia_Friday           2.3535      0.630      3.734      0.000       1.117       3.590\n",
      "dia_Thursday         2.0162      0.632      3.192      0.001       0.777       3.255\n",
      "dia_Tuesday          2.6130      0.634      4.119      0.000       1.369       3.857\n",
      "dia_Wednesday        2.5488      0.633      4.026      0.000       1.307       3.791\n",
      "mes_August           1.3522      0.800      1.690      0.091      -0.217       2.921\n",
      "mes_April            5.0544      0.832      6.077      0.000       3.423       6.686\n",
      "mes_February         1.9702      0.809      2.435      0.015       0.383       3.557\n",
      "mes_January          0.2109      0.761      0.277      0.782      -1.281       1.703\n",
      "mes_July             1.3118      0.799      1.641      0.101      -0.256       2.880\n",
      "mes_June             1.7776      0.808      2.200      0.028       0.193       3.362\n",
      "mes_March            5.5540      0.830      6.695      0.000       3.927       7.181\n",
      "mes_May              1.9111      0.802      2.383      0.017       0.338       3.484\n",
      "mes_November         1.2982      0.772      1.682      0.093      -0.215       2.812\n",
      "mes_October          2.1286      0.802      2.654      0.008       0.556       3.701\n",
      "mes_September        1.5582      0.807      1.930      0.054      -0.025       3.141\n",
      "const                1.8892      0.692      2.728      0.006       0.531       3.247\n",
      "==============================================================================\n",
      "Omnibus:                      564.902   Durbin-Watson:                   2.307\n",
      "Prob(Omnibus):                  0.000   Jarque-Bera (JB):             3360.003\n",
      "Skew:                           1.247   Prob(JB):                         0.00\n",
      "Kurtosis:                       8.983   Cond. No.                         494.\n",
      "==============================================================================\n",
      "\n",
      "Notes:\n",
      "[1] Standard Errors assume that the covariance matrix of the errors is correctly specified.\n"
     ]
    }
   ],
   "source": [
    "X = sm.add_constant(X, prepend=False)\n",
    "\n",
    "# Fit and summarize OLS model\n",
    "mod = sm.OLS(y, X)\n",
    "\n",
    "res = mod.fit()\n",
    "\n",
    "print(res.summary())"
   ]
  },
  {
   "cell_type": "code",
   "execution_count": 65,
   "id": "0e28bfc1",
   "metadata": {},
   "outputs": [],
   "source": [
    "localtel_diario[\"predict_restriccion\"]= res.predict()"
   ]
  },
  {
   "cell_type": "code",
   "execution_count": 66,
   "id": "99002ec0",
   "metadata": {},
   "outputs": [
    {
     "data": {
      "text/plain": [
       "318.6858149415731"
      ]
     },
     "execution_count": 66,
     "metadata": {},
     "output_type": "execute_result"
    }
   ],
   "source": [
    "np.sqrt(np.sum((localtel_diario.llamadas - localtel_diario.predict_restriccion)**2))"
   ]
  },
  {
   "cell_type": "code",
   "execution_count": 67,
   "id": "d26fc660",
   "metadata": {},
   "outputs": [],
   "source": [
    "linreg = LinearRegression()"
   ]
  },
  {
   "cell_type": "code",
   "execution_count": 68,
   "id": "df172587",
   "metadata": {},
   "outputs": [
    {
     "data": {
      "text/plain": [
       "LinearRegression()"
      ]
     },
     "execution_count": 68,
     "metadata": {},
     "output_type": "execute_result"
    }
   ],
   "source": [
    "linreg.fit(X_train, y_train)"
   ]
  },
  {
   "cell_type": "code",
   "execution_count": 69,
   "id": "35e2b1c8",
   "metadata": {},
   "outputs": [
    {
     "data": {
      "text/plain": [
       "0.7372639223485606"
      ]
     },
     "execution_count": 69,
     "metadata": {},
     "output_type": "execute_result"
    }
   ],
   "source": [
    "linreg.score(X_train, y_train)"
   ]
  },
  {
   "cell_type": "code",
   "execution_count": 70,
   "id": "654db342",
   "metadata": {},
   "outputs": [],
   "source": [
    "predict_train=linreg.predict(X_train)"
   ]
  },
  {
   "cell_type": "code",
   "execution_count": 71,
   "id": "e8e4b208",
   "metadata": {},
   "outputs": [
    {
     "data": {
      "text/plain": [
       "51.1412504415065"
      ]
     },
     "execution_count": 71,
     "metadata": {},
     "output_type": "execute_result"
    }
   ],
   "source": [
    "mean_squared_error(y_train, predict_train)"
   ]
  },
  {
   "cell_type": "code",
   "execution_count": 72,
   "id": "c71ae974",
   "metadata": {},
   "outputs": [
    {
     "data": {
      "text/plain": [
       "0.3205356673201982"
      ]
     },
     "execution_count": 72,
     "metadata": {},
     "output_type": "execute_result"
    }
   ],
   "source": [
    "linreg.score(X_test,y_test)"
   ]
  },
  {
   "cell_type": "code",
   "execution_count": 73,
   "id": "3ca78e04",
   "metadata": {},
   "outputs": [],
   "source": [
    "predict_test=linreg.predict(X_test)"
   ]
  },
  {
   "cell_type": "code",
   "execution_count": 74,
   "id": "bcfa01f8",
   "metadata": {},
   "outputs": [
    {
     "data": {
      "text/plain": [
       "71.3694235839471"
      ]
     },
     "execution_count": 74,
     "metadata": {},
     "output_type": "execute_result"
    }
   ],
   "source": [
    "mean_squared_error(y_test, predict_test)"
   ]
  },
  {
   "cell_type": "code",
   "execution_count": 75,
   "id": "74c6a8af",
   "metadata": {},
   "outputs": [],
   "source": [
    "predicciones=pd.concat([pd.DataFrame(predict_train), pd.DataFrame(predict_test)], axis=0)\n",
    "predicciones.reset_index(drop=True,inplace=True)\n"
   ]
  },
  {
   "cell_type": "code",
   "execution_count": 76,
   "id": "1a4b0ef7",
   "metadata": {},
   "outputs": [],
   "source": [
    "llamadas=localtel_diario[[\"FECHA_ALTA\",\"llamadas\"]]"
   ]
  },
  {
   "cell_type": "code",
   "execution_count": 77,
   "id": "66ce5f7f",
   "metadata": {},
   "outputs": [],
   "source": [
    "llamadas.reset_index(drop=True,inplace=True)"
   ]
  },
  {
   "cell_type": "code",
   "execution_count": 78,
   "id": "4b1871ab",
   "metadata": {},
   "outputs": [],
   "source": [
    "predict=pd.concat([llamadas, predicciones], axis=1,)"
   ]
  },
  {
   "cell_type": "code",
   "execution_count": 288,
   "id": "1de61f72",
   "metadata": {},
   "outputs": [],
   "source": [
    "predict.to_csv(\"predict1.csv\")"
   ]
  },
  {
   "cell_type": "code",
   "execution_count": 225,
   "id": "2e239b6b",
   "metadata": {},
   "outputs": [],
   "source": [
    "#Aunque tenemos una buena aproximación de los datos usando el indice covid, este es desconocido para nosotros en los\n",
    "#siguientes dáias que queramos predecir, por lo que vamos a intentar hacer un modelo un poquito distinto"
   ]
  },
  {
   "cell_type": "markdown",
   "id": "a7034690",
   "metadata": {},
   "source": [
    "# Otro  Modelo"
   ]
  },
  {
   "cell_type": "code",
   "execution_count": 79,
   "id": "54f7531c",
   "metadata": {},
   "outputs": [],
   "source": [
    "#En lugar de usar el indice de restricción usaremos un indice covid como variable en la que es cero si no habia \n",
    "#precencia de covid en ese día y 1 si sí.\n",
    "pred_vars1 = ['covid', 'lag1', 'dia_Monday', 'dia_Saturday',\n",
    "       'dia_Friday', 'dia_Thursday', 'dia_Tuesday', 'dia_Wednesday',\n",
    "       'mes_August', 'mes_April', 'mes_February', 'mes_January', 'mes_July',\n",
    "       'mes_June', 'mes_March', 'mes_May', 'mes_November', 'mes_October',\n",
    "       'mes_September']"
   ]
  },
  {
   "cell_type": "code",
   "execution_count": 80,
   "id": "5beb2991",
   "metadata": {},
   "outputs": [],
   "source": [
    "X = localtel_diario[pred_vars1]"
   ]
  },
  {
   "cell_type": "code",
   "execution_count": 81,
   "id": "9d52e548",
   "metadata": {},
   "outputs": [],
   "source": [
    "y = localtel_diario.llamadas"
   ]
  },
  {
   "cell_type": "code",
   "execution_count": 172,
   "id": "9008f568",
   "metadata": {},
   "outputs": [
    {
     "data": {
      "text/plain": [
       "(1919, 20)"
      ]
     },
     "execution_count": 172,
     "metadata": {},
     "output_type": "execute_result"
    }
   ],
   "source": [
    "X.shape"
   ]
  },
  {
   "cell_type": "code",
   "execution_count": 171,
   "id": "e0b92442",
   "metadata": {},
   "outputs": [
    {
     "name": "stdout",
     "output_type": "stream",
     "text": [
      "                            OLS Regression Results                            \n",
      "==============================================================================\n",
      "Dep. Variable:               llamadas   R-squared:                       0.710\n",
      "Model:                            OLS   Adj. R-squared:                  0.707\n",
      "Method:                 Least Squares   F-statistic:                     245.1\n",
      "Date:                Fri, 25 Mar 2022   Prob (F-statistic):               0.00\n",
      "Time:                        12:16:07   Log-Likelihood:                -6552.6\n",
      "No. Observations:                1919   AIC:                         1.315e+04\n",
      "Df Residuals:                    1899   BIC:                         1.326e+04\n",
      "Df Model:                          19                                         \n",
      "Covariance Type:            nonrobust                                         \n",
      "=================================================================================\n",
      "                    coef    std err          t      P>|t|      [0.025      0.975]\n",
      "---------------------------------------------------------------------------------\n",
      "covid             7.2803      0.490     14.871      0.000       6.320       8.240\n",
      "lag1              0.6085      0.018     33.336      0.000       0.573       0.644\n",
      "dia_Monday        6.6102      0.631     10.471      0.000       5.372       7.848\n",
      "dia_Saturday     -2.3415      0.637     -3.675      0.000      -3.591      -1.092\n",
      "dia_Friday        2.1978      0.637      3.451      0.001       0.949       3.447\n",
      "dia_Thursday      1.8302      0.638      2.868      0.004       0.579       3.082\n",
      "dia_Tuesday       2.3963      0.641      3.741      0.000       1.140       3.653\n",
      "dia_Wednesday     2.3455      0.640      3.668      0.000       1.091       3.600\n",
      "mes_August        2.1517      0.810      2.658      0.008       0.564       3.739\n",
      "mes_April         5.1992      0.844      6.159      0.000       3.544       6.855\n",
      "mes_February      2.2308      0.820      2.722      0.007       0.623       3.838\n",
      "mes_January       0.4491      0.769      0.584      0.559      -1.059       1.957\n",
      "mes_July          1.5925      0.809      1.969      0.049       0.006       3.179\n",
      "mes_June          1.9158      0.818      2.343      0.019       0.312       3.519\n",
      "mes_March         4.7697      0.832      5.735      0.000       3.138       6.401\n",
      "mes_May           2.3119      0.812      2.847      0.004       0.719       3.905\n",
      "mes_November      1.3217      0.781      1.693      0.091      -0.209       2.853\n",
      "mes_October       2.0256      0.811      2.498      0.013       0.435       3.616\n",
      "mes_September     1.6310      0.816      1.998      0.046       0.030       3.232\n",
      "const             1.3034      0.700      1.862      0.063      -0.070       2.677\n",
      "==============================================================================\n",
      "Omnibus:                      550.099   Durbin-Watson:                   2.351\n",
      "Prob(Omnibus):                  0.000   Jarque-Bera (JB):             3202.354\n",
      "Skew:                           1.217   Prob(JB):                         0.00\n",
      "Kurtosis:                       8.841   Cond. No.                         288.\n",
      "==============================================================================\n",
      "\n",
      "Notes:\n",
      "[1] Standard Errors assume that the covariance matrix of the errors is correctly specified.\n"
     ]
    }
   ],
   "source": [
    "X = sm.add_constant(X, prepend=False)\n",
    "\n",
    "# Fit and summarize OLS model\n",
    "mod = sm.OLS(y, X).fit()\n",
    "\n",
    "print(mod.summary())"
   ]
  },
  {
   "cell_type": "code",
   "execution_count": 87,
   "id": "20c91920",
   "metadata": {},
   "outputs": [
    {
     "data": {
      "text/plain": [
       "318.6858149415731"
      ]
     },
     "execution_count": 87,
     "metadata": {},
     "output_type": "execute_result"
    }
   ],
   "source": [
    "np.sqrt(np.sum((localtel_diario.llamadas - localtel_diario.predict_restriccion)**2))"
   ]
  },
  {
   "cell_type": "code",
   "execution_count": 173,
   "id": "a5aa5c80",
   "metadata": {},
   "outputs": [],
   "source": [
    "X_train=X[0:1739]\n",
    "X_test=X[1739:]"
   ]
  },
  {
   "cell_type": "code",
   "execution_count": 174,
   "id": "5a829814",
   "metadata": {},
   "outputs": [],
   "source": [
    "y_train=y[0:1739]\n",
    "y_test=y[1739:]"
   ]
  },
  {
   "cell_type": "code",
   "execution_count": 175,
   "id": "5075567b",
   "metadata": {},
   "outputs": [],
   "source": [
    "linreg = LinearRegression()"
   ]
  },
  {
   "cell_type": "code",
   "execution_count": 177,
   "id": "3c5d7381",
   "metadata": {},
   "outputs": [
    {
     "data": {
      "text/plain": [
       "LinearRegression()"
      ]
     },
     "execution_count": 177,
     "metadata": {},
     "output_type": "execute_result"
    }
   ],
   "source": [
    "linreg.fit(X_train, y_train)"
   ]
  },
  {
   "cell_type": "code",
   "execution_count": 178,
   "id": "cd5da7e0",
   "metadata": {},
   "outputs": [
    {
     "data": {
      "text/plain": [
       "0.7368374075231485"
      ]
     },
     "execution_count": 178,
     "metadata": {},
     "output_type": "execute_result"
    }
   ],
   "source": [
    "linreg.score(X_train, y_train)"
   ]
  },
  {
   "cell_type": "code",
   "execution_count": 179,
   "id": "635a99bd",
   "metadata": {},
   "outputs": [],
   "source": [
    "predict_train=linreg.predict(X_train)"
   ]
  },
  {
   "cell_type": "code",
   "execution_count": 180,
   "id": "156068b3",
   "metadata": {},
   "outputs": [
    {
     "data": {
      "text/plain": [
       "51.22427102131568"
      ]
     },
     "execution_count": 180,
     "metadata": {},
     "output_type": "execute_result"
    }
   ],
   "source": [
    "mean_squared_error(y_train, predict_train)"
   ]
  },
  {
   "cell_type": "code",
   "execution_count": 181,
   "id": "11fa45f4",
   "metadata": {},
   "outputs": [
    {
     "data": {
      "text/plain": [
       "0.13467773235454172"
      ]
     },
     "execution_count": 181,
     "metadata": {},
     "output_type": "execute_result"
    }
   ],
   "source": [
    "linreg.score(X_test,y_test)"
   ]
  },
  {
   "cell_type": "code",
   "execution_count": 182,
   "id": "11a455ac",
   "metadata": {},
   "outputs": [],
   "source": [
    "predict_test=linreg.predict(X_test)"
   ]
  },
  {
   "cell_type": "code",
   "execution_count": 183,
   "id": "e12ec19e",
   "metadata": {},
   "outputs": [
    {
     "data": {
      "text/plain": [
       "90.89152805510639"
      ]
     },
     "execution_count": 183,
     "metadata": {},
     "output_type": "execute_result"
    }
   ],
   "source": [
    "mean_squared_error(y_test, predict_test)"
   ]
  },
  {
   "cell_type": "code",
   "execution_count": 186,
   "id": "61de51a5",
   "metadata": {},
   "outputs": [
    {
     "data": {
      "text/plain": [
       "array([ 8.99432318,  0.58310035,  6.55189637, -1.83879349,  2.4029582 ,\n",
       "        2.11279019,  2.66743238,  2.48762529,  1.33448595,  4.53027726,\n",
       "        2.22843841,  0.82889018,  0.6941862 ,  1.04076527,  4.17518682,\n",
       "        1.46172146,  1.03681582,  1.64862309,  1.63515089,  0.        ])"
      ]
     },
     "execution_count": 186,
     "metadata": {},
     "output_type": "execute_result"
    }
   ],
   "source": [
    "linreg.coef_"
   ]
  },
  {
   "cell_type": "code",
   "execution_count": 187,
   "id": "8601f7b1",
   "metadata": {},
   "outputs": [],
   "source": [
    "predicciones=pd.concat([pd.DataFrame(predict_train), pd.DataFrame(predict_test)], axis=0)\n",
    "predicciones.reset_index(drop=True,inplace=True)\n"
   ]
  },
  {
   "cell_type": "code",
   "execution_count": 188,
   "id": "e4047e20",
   "metadata": {},
   "outputs": [],
   "source": [
    "llamadas=localtel_diario[[\"FECHA_ALTA\",\"llamadas\"]]"
   ]
  },
  {
   "cell_type": "code",
   "execution_count": 189,
   "id": "29c86dee",
   "metadata": {},
   "outputs": [],
   "source": [
    "llamadas.reset_index(drop=True,inplace=True)"
   ]
  },
  {
   "cell_type": "code",
   "execution_count": 190,
   "id": "43af863c",
   "metadata": {},
   "outputs": [],
   "source": [
    "predict=pd.concat([llamadas, predicciones], axis=1,)"
   ]
  },
  {
   "cell_type": "code",
   "execution_count": 264,
   "id": "a29acd92",
   "metadata": {},
   "outputs": [],
   "source": [
    "predict.to_csv(\"predict.csv\")"
   ]
  },
  {
   "cell_type": "code",
   "execution_count": 191,
   "id": "cb733f96",
   "metadata": {},
   "outputs": [
    {
     "data": {
      "text/html": [
       "<div>\n",
       "<style scoped>\n",
       "    .dataframe tbody tr th:only-of-type {\n",
       "        vertical-align: middle;\n",
       "    }\n",
       "\n",
       "    .dataframe tbody tr th {\n",
       "        vertical-align: top;\n",
       "    }\n",
       "\n",
       "    .dataframe thead th {\n",
       "        text-align: right;\n",
       "    }\n",
       "</style>\n",
       "<table border=\"1\" class=\"dataframe\">\n",
       "  <thead>\n",
       "    <tr style=\"text-align: right;\">\n",
       "      <th></th>\n",
       "      <th>covid</th>\n",
       "      <th>lag1</th>\n",
       "      <th>dia_Monday</th>\n",
       "      <th>dia_Saturday</th>\n",
       "      <th>dia_Friday</th>\n",
       "      <th>dia_Thursday</th>\n",
       "      <th>dia_Tuesday</th>\n",
       "      <th>dia_Wednesday</th>\n",
       "      <th>mes_August</th>\n",
       "      <th>mes_April</th>\n",
       "      <th>mes_February</th>\n",
       "      <th>mes_January</th>\n",
       "      <th>mes_July</th>\n",
       "      <th>mes_June</th>\n",
       "      <th>mes_March</th>\n",
       "      <th>mes_May</th>\n",
       "      <th>mes_November</th>\n",
       "      <th>mes_October</th>\n",
       "      <th>mes_September</th>\n",
       "      <th>const</th>\n",
       "    </tr>\n",
       "  </thead>\n",
       "  <tbody>\n",
       "    <tr>\n",
       "      <th>1</th>\n",
       "      <td>0</td>\n",
       "      <td>5.0</td>\n",
       "      <td>0</td>\n",
       "      <td>1</td>\n",
       "      <td>0</td>\n",
       "      <td>0</td>\n",
       "      <td>0</td>\n",
       "      <td>0</td>\n",
       "      <td>0</td>\n",
       "      <td>0</td>\n",
       "      <td>0</td>\n",
       "      <td>0</td>\n",
       "      <td>0</td>\n",
       "      <td>0</td>\n",
       "      <td>0</td>\n",
       "      <td>0</td>\n",
       "      <td>1</td>\n",
       "      <td>0</td>\n",
       "      <td>0</td>\n",
       "      <td>1.0</td>\n",
       "    </tr>\n",
       "    <tr>\n",
       "      <th>2</th>\n",
       "      <td>0</td>\n",
       "      <td>1.0</td>\n",
       "      <td>0</td>\n",
       "      <td>0</td>\n",
       "      <td>0</td>\n",
       "      <td>0</td>\n",
       "      <td>0</td>\n",
       "      <td>0</td>\n",
       "      <td>0</td>\n",
       "      <td>0</td>\n",
       "      <td>0</td>\n",
       "      <td>0</td>\n",
       "      <td>0</td>\n",
       "      <td>0</td>\n",
       "      <td>0</td>\n",
       "      <td>0</td>\n",
       "      <td>1</td>\n",
       "      <td>0</td>\n",
       "      <td>0</td>\n",
       "      <td>1.0</td>\n",
       "    </tr>\n",
       "    <tr>\n",
       "      <th>3</th>\n",
       "      <td>0</td>\n",
       "      <td>6.0</td>\n",
       "      <td>1</td>\n",
       "      <td>0</td>\n",
       "      <td>0</td>\n",
       "      <td>0</td>\n",
       "      <td>0</td>\n",
       "      <td>0</td>\n",
       "      <td>0</td>\n",
       "      <td>0</td>\n",
       "      <td>0</td>\n",
       "      <td>0</td>\n",
       "      <td>0</td>\n",
       "      <td>0</td>\n",
       "      <td>0</td>\n",
       "      <td>0</td>\n",
       "      <td>1</td>\n",
       "      <td>0</td>\n",
       "      <td>0</td>\n",
       "      <td>1.0</td>\n",
       "    </tr>\n",
       "    <tr>\n",
       "      <th>4</th>\n",
       "      <td>0</td>\n",
       "      <td>13.0</td>\n",
       "      <td>0</td>\n",
       "      <td>0</td>\n",
       "      <td>0</td>\n",
       "      <td>0</td>\n",
       "      <td>1</td>\n",
       "      <td>0</td>\n",
       "      <td>0</td>\n",
       "      <td>0</td>\n",
       "      <td>0</td>\n",
       "      <td>0</td>\n",
       "      <td>0</td>\n",
       "      <td>0</td>\n",
       "      <td>0</td>\n",
       "      <td>0</td>\n",
       "      <td>1</td>\n",
       "      <td>0</td>\n",
       "      <td>0</td>\n",
       "      <td>1.0</td>\n",
       "    </tr>\n",
       "    <tr>\n",
       "      <th>5</th>\n",
       "      <td>0</td>\n",
       "      <td>11.0</td>\n",
       "      <td>0</td>\n",
       "      <td>0</td>\n",
       "      <td>0</td>\n",
       "      <td>0</td>\n",
       "      <td>0</td>\n",
       "      <td>1</td>\n",
       "      <td>0</td>\n",
       "      <td>0</td>\n",
       "      <td>0</td>\n",
       "      <td>0</td>\n",
       "      <td>0</td>\n",
       "      <td>0</td>\n",
       "      <td>0</td>\n",
       "      <td>0</td>\n",
       "      <td>1</td>\n",
       "      <td>0</td>\n",
       "      <td>0</td>\n",
       "      <td>1.0</td>\n",
       "    </tr>\n",
       "    <tr>\n",
       "      <th>...</th>\n",
       "      <td>...</td>\n",
       "      <td>...</td>\n",
       "      <td>...</td>\n",
       "      <td>...</td>\n",
       "      <td>...</td>\n",
       "      <td>...</td>\n",
       "      <td>...</td>\n",
       "      <td>...</td>\n",
       "      <td>...</td>\n",
       "      <td>...</td>\n",
       "      <td>...</td>\n",
       "      <td>...</td>\n",
       "      <td>...</td>\n",
       "      <td>...</td>\n",
       "      <td>...</td>\n",
       "      <td>...</td>\n",
       "      <td>...</td>\n",
       "      <td>...</td>\n",
       "      <td>...</td>\n",
       "      <td>...</td>\n",
       "    </tr>\n",
       "    <tr>\n",
       "      <th>1915</th>\n",
       "      <td>1</td>\n",
       "      <td>16.0</td>\n",
       "      <td>0</td>\n",
       "      <td>0</td>\n",
       "      <td>0</td>\n",
       "      <td>0</td>\n",
       "      <td>0</td>\n",
       "      <td>1</td>\n",
       "      <td>0</td>\n",
       "      <td>0</td>\n",
       "      <td>1</td>\n",
       "      <td>0</td>\n",
       "      <td>0</td>\n",
       "      <td>0</td>\n",
       "      <td>0</td>\n",
       "      <td>0</td>\n",
       "      <td>0</td>\n",
       "      <td>0</td>\n",
       "      <td>0</td>\n",
       "      <td>1.0</td>\n",
       "    </tr>\n",
       "    <tr>\n",
       "      <th>1916</th>\n",
       "      <td>1</td>\n",
       "      <td>28.0</td>\n",
       "      <td>0</td>\n",
       "      <td>0</td>\n",
       "      <td>0</td>\n",
       "      <td>1</td>\n",
       "      <td>0</td>\n",
       "      <td>0</td>\n",
       "      <td>0</td>\n",
       "      <td>0</td>\n",
       "      <td>1</td>\n",
       "      <td>0</td>\n",
       "      <td>0</td>\n",
       "      <td>0</td>\n",
       "      <td>0</td>\n",
       "      <td>0</td>\n",
       "      <td>0</td>\n",
       "      <td>0</td>\n",
       "      <td>0</td>\n",
       "      <td>1.0</td>\n",
       "    </tr>\n",
       "    <tr>\n",
       "      <th>1917</th>\n",
       "      <td>1</td>\n",
       "      <td>12.0</td>\n",
       "      <td>0</td>\n",
       "      <td>0</td>\n",
       "      <td>1</td>\n",
       "      <td>0</td>\n",
       "      <td>0</td>\n",
       "      <td>0</td>\n",
       "      <td>0</td>\n",
       "      <td>0</td>\n",
       "      <td>1</td>\n",
       "      <td>0</td>\n",
       "      <td>0</td>\n",
       "      <td>0</td>\n",
       "      <td>0</td>\n",
       "      <td>0</td>\n",
       "      <td>0</td>\n",
       "      <td>0</td>\n",
       "      <td>0</td>\n",
       "      <td>1.0</td>\n",
       "    </tr>\n",
       "    <tr>\n",
       "      <th>1918</th>\n",
       "      <td>1</td>\n",
       "      <td>20.0</td>\n",
       "      <td>0</td>\n",
       "      <td>1</td>\n",
       "      <td>0</td>\n",
       "      <td>0</td>\n",
       "      <td>0</td>\n",
       "      <td>0</td>\n",
       "      <td>0</td>\n",
       "      <td>0</td>\n",
       "      <td>1</td>\n",
       "      <td>0</td>\n",
       "      <td>0</td>\n",
       "      <td>0</td>\n",
       "      <td>0</td>\n",
       "      <td>0</td>\n",
       "      <td>0</td>\n",
       "      <td>0</td>\n",
       "      <td>0</td>\n",
       "      <td>1.0</td>\n",
       "    </tr>\n",
       "    <tr>\n",
       "      <th>1919</th>\n",
       "      <td>1</td>\n",
       "      <td>11.0</td>\n",
       "      <td>0</td>\n",
       "      <td>0</td>\n",
       "      <td>0</td>\n",
       "      <td>0</td>\n",
       "      <td>0</td>\n",
       "      <td>0</td>\n",
       "      <td>0</td>\n",
       "      <td>0</td>\n",
       "      <td>1</td>\n",
       "      <td>0</td>\n",
       "      <td>0</td>\n",
       "      <td>0</td>\n",
       "      <td>0</td>\n",
       "      <td>0</td>\n",
       "      <td>0</td>\n",
       "      <td>0</td>\n",
       "      <td>0</td>\n",
       "      <td>1.0</td>\n",
       "    </tr>\n",
       "  </tbody>\n",
       "</table>\n",
       "<p>1919 rows × 20 columns</p>\n",
       "</div>"
      ],
      "text/plain": [
       "      covid  lag1  dia_Monday  dia_Saturday  dia_Friday  dia_Thursday  \\\n",
       "1         0   5.0           0             1           0             0   \n",
       "2         0   1.0           0             0           0             0   \n",
       "3         0   6.0           1             0           0             0   \n",
       "4         0  13.0           0             0           0             0   \n",
       "5         0  11.0           0             0           0             0   \n",
       "...     ...   ...         ...           ...         ...           ...   \n",
       "1915      1  16.0           0             0           0             0   \n",
       "1916      1  28.0           0             0           0             1   \n",
       "1917      1  12.0           0             0           1             0   \n",
       "1918      1  20.0           0             1           0             0   \n",
       "1919      1  11.0           0             0           0             0   \n",
       "\n",
       "      dia_Tuesday  dia_Wednesday  mes_August  mes_April  mes_February  \\\n",
       "1               0              0           0          0             0   \n",
       "2               0              0           0          0             0   \n",
       "3               0              0           0          0             0   \n",
       "4               1              0           0          0             0   \n",
       "5               0              1           0          0             0   \n",
       "...           ...            ...         ...        ...           ...   \n",
       "1915            0              1           0          0             1   \n",
       "1916            0              0           0          0             1   \n",
       "1917            0              0           0          0             1   \n",
       "1918            0              0           0          0             1   \n",
       "1919            0              0           0          0             1   \n",
       "\n",
       "      mes_January  mes_July  mes_June  mes_March  mes_May  mes_November  \\\n",
       "1               0         0         0          0        0             1   \n",
       "2               0         0         0          0        0             1   \n",
       "3               0         0         0          0        0             1   \n",
       "4               0         0         0          0        0             1   \n",
       "5               0         0         0          0        0             1   \n",
       "...           ...       ...       ...        ...      ...           ...   \n",
       "1915            0         0         0          0        0             0   \n",
       "1916            0         0         0          0        0             0   \n",
       "1917            0         0         0          0        0             0   \n",
       "1918            0         0         0          0        0             0   \n",
       "1919            0         0         0          0        0             0   \n",
       "\n",
       "      mes_October  mes_September  const  \n",
       "1               0              0    1.0  \n",
       "2               0              0    1.0  \n",
       "3               0              0    1.0  \n",
       "4               0              0    1.0  \n",
       "5               0              0    1.0  \n",
       "...           ...            ...    ...  \n",
       "1915            0              0    1.0  \n",
       "1916            0              0    1.0  \n",
       "1917            0              0    1.0  \n",
       "1918            0              0    1.0  \n",
       "1919            0              0    1.0  \n",
       "\n",
       "[1919 rows x 20 columns]"
      ]
     },
     "execution_count": 191,
     "metadata": {},
     "output_type": "execute_result"
    }
   ],
   "source": [
    "X"
   ]
  },
  {
   "cell_type": "markdown",
   "id": "87052c22",
   "metadata": {},
   "source": [
    "**Predicciones modelo con indice covid**"
   ]
  },
  {
   "cell_type": "code",
   "execution_count": 101,
   "id": "e9e808be",
   "metadata": {},
   "outputs": [
    {
     "data": {
      "text/html": [
       "<div>\n",
       "<style scoped>\n",
       "    .dataframe tbody tr th:only-of-type {\n",
       "        vertical-align: middle;\n",
       "    }\n",
       "\n",
       "    .dataframe tbody tr th {\n",
       "        vertical-align: top;\n",
       "    }\n",
       "\n",
       "    .dataframe thead th {\n",
       "        text-align: right;\n",
       "    }\n",
       "</style>\n",
       "<table border=\"1\" class=\"dataframe\">\n",
       "  <thead>\n",
       "    <tr style=\"text-align: right;\">\n",
       "      <th></th>\n",
       "      <th>FECHA_ALTA</th>\n",
       "      <th>llamadas</th>\n",
       "      <th>0</th>\n",
       "    </tr>\n",
       "  </thead>\n",
       "  <tbody>\n",
       "    <tr>\n",
       "      <th>0</th>\n",
       "      <td>2016-11-05</td>\n",
       "      <td>1</td>\n",
       "      <td>3.941824</td>\n",
       "    </tr>\n",
       "    <tr>\n",
       "      <th>1</th>\n",
       "      <td>2016-11-06</td>\n",
       "      <td>6</td>\n",
       "      <td>3.448216</td>\n",
       "    </tr>\n",
       "    <tr>\n",
       "      <th>2</th>\n",
       "      <td>2016-11-07</td>\n",
       "      <td>13</td>\n",
       "      <td>12.915614</td>\n",
       "    </tr>\n",
       "    <tr>\n",
       "      <th>3</th>\n",
       "      <td>2016-11-08</td>\n",
       "      <td>11</td>\n",
       "      <td>13.112852</td>\n",
       "    </tr>\n",
       "    <tr>\n",
       "      <th>4</th>\n",
       "      <td>2016-11-09</td>\n",
       "      <td>11</td>\n",
       "      <td>11.766845</td>\n",
       "    </tr>\n",
       "    <tr>\n",
       "      <th>...</th>\n",
       "      <td>...</td>\n",
       "      <td>...</td>\n",
       "      <td>...</td>\n",
       "    </tr>\n",
       "    <tr>\n",
       "      <th>1914</th>\n",
       "      <td>2022-02-09</td>\n",
       "      <td>28</td>\n",
       "      <td>24.868292</td>\n",
       "    </tr>\n",
       "    <tr>\n",
       "      <th>1915</th>\n",
       "      <td>2022-02-10</td>\n",
       "      <td>12</td>\n",
       "      <td>31.490661</td>\n",
       "    </tr>\n",
       "    <tr>\n",
       "      <th>1916</th>\n",
       "      <td>2022-02-11</td>\n",
       "      <td>20</td>\n",
       "      <td>22.451224</td>\n",
       "    </tr>\n",
       "    <tr>\n",
       "      <th>1917</th>\n",
       "      <td>2022-02-12</td>\n",
       "      <td>11</td>\n",
       "      <td>22.874275</td>\n",
       "    </tr>\n",
       "    <tr>\n",
       "      <th>1918</th>\n",
       "      <td>2022-02-13</td>\n",
       "      <td>8</td>\n",
       "      <td>19.465165</td>\n",
       "    </tr>\n",
       "  </tbody>\n",
       "</table>\n",
       "<p>1919 rows × 3 columns</p>\n",
       "</div>"
      ],
      "text/plain": [
       "     FECHA_ALTA  llamadas          0\n",
       "0    2016-11-05         1   3.941824\n",
       "1    2016-11-06         6   3.448216\n",
       "2    2016-11-07        13  12.915614\n",
       "3    2016-11-08        11  13.112852\n",
       "4    2016-11-09        11  11.766845\n",
       "...         ...       ...        ...\n",
       "1914 2022-02-09        28  24.868292\n",
       "1915 2022-02-10        12  31.490661\n",
       "1916 2022-02-11        20  22.451224\n",
       "1917 2022-02-12        11  22.874275\n",
       "1918 2022-02-13         8  19.465165\n",
       "\n",
       "[1919 rows x 3 columns]"
      ]
     },
     "execution_count": 101,
     "metadata": {},
     "output_type": "execute_result"
    }
   ],
   "source": [
    "#Obtendrémos las predicciones de varios días en adelante \n",
    "predict"
   ]
  },
  {
   "cell_type": "code",
   "execution_count": 115,
   "id": "398a685a",
   "metadata": {},
   "outputs": [],
   "source": [
    "inicio=datetime(2022,2,14)\n",
    "fin=datetime(2022,6,14)\n",
    "lista_fechas = [inicio + timedelta(days=d) for d in range((fin - inicio).days + 1)] "
   ]
  },
  {
   "cell_type": "code",
   "execution_count": 116,
   "id": "9c6e99a5",
   "metadata": {},
   "outputs": [],
   "source": [
    "nuevos = pd.DataFrame()"
   ]
  },
  {
   "cell_type": "code",
   "execution_count": 117,
   "id": "37d77d0e",
   "metadata": {},
   "outputs": [],
   "source": [
    "nuevos[\"FECHA_ALTA\"]=lista_fechas"
   ]
  },
  {
   "cell_type": "code",
   "execution_count": 118,
   "id": "eb430b22",
   "metadata": {},
   "outputs": [],
   "source": [
    "nuevos['covid'] = nuevos[\"FECHA_ALTA\"].apply(lambda fecha: 1 if fecha > fecha_covid else 0)"
   ]
  },
  {
   "cell_type": "code",
   "execution_count": 121,
   "id": "b37c09b6",
   "metadata": {},
   "outputs": [],
   "source": [
    "nuevos[\"dia\"] = nuevos[\"FECHA_ALTA\"].apply(lambda fecha: pd.Timestamp(f\"{fecha}\").day_name())\n",
    "nuevos[\"mes\"] = nuevos[\"FECHA_ALTA\"].apply(lambda fecha: pd.Timestamp(f\"{fecha}\").month_name())"
   ]
  },
  {
   "cell_type": "code",
   "execution_count": 122,
   "id": "3ff10939",
   "metadata": {},
   "outputs": [],
   "source": [
    "nuevos = pd.get_dummies(data=nuevos, drop_first=False)"
   ]
  },
  {
   "cell_type": "code",
   "execution_count": 135,
   "id": "a4effe2b",
   "metadata": {},
   "outputs": [],
   "source": [
    "nuevos[\"mes_August\"]=0\n",
    "nuevos[\"mes_September\"]=0\n",
    "nuevos[\"mes_October\"]=0\n",
    "nuevos[\"mes_November\"]=0\n",
    "nuevos[\"mes_July\"]=0\n",
    "nuevos[\"mes_January\"]=0\n"
   ]
  },
  {
   "cell_type": "code",
   "execution_count": 138,
   "id": "b61fe986",
   "metadata": {},
   "outputs": [],
   "source": [
    "nuevos=nuevos.reindex(columns=[\"FECHA_ALTA\",\"covid\",\"dia_Monday\",\"dia_Saturday\",\"dia_Friday\",\"dia_Thursday\",\"dia_Tuesday\",\"dia_Wednesday\",\"mes_August\",\"mes_April\",\"mes_February\",\"mes_January\",\"mes_July\",\"mes_June\",\"mes_March\",\"mes_May\",\"mes_November\",\"mes_October\",\"mes_September\",\"dia_Sunday\",])"
   ]
  },
  {
   "cell_type": "code",
   "execution_count": 139,
   "id": "45ccb73c",
   "metadata": {},
   "outputs": [],
   "source": [
    "pred_vars = ['covid', 'dia_Monday', 'dia_Saturday',\n",
    "       'dia_Friday', 'dia_Thursday', 'dia_Tuesday', 'dia_Wednesday',\n",
    "       'mes_August', 'mes_April', 'mes_February', 'mes_January', 'mes_July',\n",
    "       'mes_June', 'mes_March', 'mes_May', 'mes_November', 'mes_October',\n",
    "       'mes_September']"
   ]
  },
  {
   "cell_type": "code",
   "execution_count": 142,
   "id": "1d54dccd",
   "metadata": {},
   "outputs": [
    {
     "name": "stderr",
     "output_type": "stream",
     "text": [
      "<ipython-input-142-57ff530f8ddb>:2: SettingWithCopyWarning: \n",
      "A value is trying to be set on a copy of a slice from a DataFrame.\n",
      "Try using .loc[row_indexer,col_indexer] = value instead\n",
      "\n",
      "See the caveats in the documentation: https://pandas.pydata.org/pandas-docs/stable/user_guide/indexing.html#returning-a-view-versus-a-copy\n",
      "  X_n[\"const\"]=1.0\n"
     ]
    }
   ],
   "source": [
    "X_n=nuevos[pred_vars]\n",
    "X_n[\"const\"]=1.0"
   ]
  },
  {
   "cell_type": "code",
   "execution_count": 166,
   "id": "34459025",
   "metadata": {},
   "outputs": [
    {
     "data": {
      "text/plain": [
       "(121, 20)"
      ]
     },
     "execution_count": 166,
     "metadata": {},
     "output_type": "execute_result"
    }
   ],
   "source": [
    "X_n.shape"
   ]
  },
  {
   "cell_type": "code",
   "execution_count": 167,
   "id": "a5cc5d72",
   "metadata": {},
   "outputs": [
    {
     "data": {
      "text/plain": [
       "(1919, 20)"
      ]
     },
     "execution_count": 167,
     "metadata": {},
     "output_type": "execute_result"
    }
   ],
   "source": [
    "X.shape"
   ]
  },
  {
   "cell_type": "code",
   "execution_count": 144,
   "id": "d04aead1",
   "metadata": {},
   "outputs": [],
   "source": [
    "X_n.insert(1, 'lag1', np.nan)"
   ]
  },
  {
   "cell_type": "code",
   "execution_count": 148,
   "id": "df73a14f",
   "metadata": {},
   "outputs": [],
   "source": [
    "X_n.loc[0, \"lag1\"] = 8"
   ]
  },
  {
   "cell_type": "code",
   "execution_count": 164,
   "id": "34bb290c",
   "metadata": {},
   "outputs": [
    {
     "data": {
      "text/plain": [
       "array([[1., 8., 1., 0., 0., 0., 0., 0., 0., 0., 1., 0., 0., 0., 0., 0.,\n",
       "        0., 0., 0., 1.]])"
      ]
     },
     "execution_count": 164,
     "metadata": {},
     "output_type": "execute_result"
    }
   ],
   "source": [
    "#X_n.loc[0].values.reshape(1,-1)"
   ]
  },
  {
   "cell_type": "code",
   "execution_count": 194,
   "id": "7ecfa886",
   "metadata": {},
   "outputs": [
    {
     "data": {
      "text/html": [
       "<div>\n",
       "<style scoped>\n",
       "    .dataframe tbody tr th:only-of-type {\n",
       "        vertical-align: middle;\n",
       "    }\n",
       "\n",
       "    .dataframe tbody tr th {\n",
       "        vertical-align: top;\n",
       "    }\n",
       "\n",
       "    .dataframe thead th {\n",
       "        text-align: right;\n",
       "    }\n",
       "</style>\n",
       "<table border=\"1\" class=\"dataframe\">\n",
       "  <thead>\n",
       "    <tr style=\"text-align: right;\">\n",
       "      <th></th>\n",
       "      <th>covid</th>\n",
       "      <th>lag1</th>\n",
       "      <th>dia_Monday</th>\n",
       "      <th>dia_Saturday</th>\n",
       "      <th>dia_Friday</th>\n",
       "      <th>dia_Thursday</th>\n",
       "      <th>dia_Tuesday</th>\n",
       "      <th>dia_Wednesday</th>\n",
       "      <th>mes_August</th>\n",
       "      <th>mes_April</th>\n",
       "      <th>mes_February</th>\n",
       "      <th>mes_January</th>\n",
       "      <th>mes_July</th>\n",
       "      <th>mes_June</th>\n",
       "      <th>mes_March</th>\n",
       "      <th>mes_May</th>\n",
       "      <th>mes_November</th>\n",
       "      <th>mes_October</th>\n",
       "      <th>mes_September</th>\n",
       "      <th>const</th>\n",
       "    </tr>\n",
       "  </thead>\n",
       "  <tbody>\n",
       "    <tr>\n",
       "      <th>0</th>\n",
       "      <td>1</td>\n",
       "      <td>8.0</td>\n",
       "      <td>1</td>\n",
       "      <td>0</td>\n",
       "      <td>0</td>\n",
       "      <td>0</td>\n",
       "      <td>0</td>\n",
       "      <td>0</td>\n",
       "      <td>0</td>\n",
       "      <td>0</td>\n",
       "      <td>1</td>\n",
       "      <td>0</td>\n",
       "      <td>0</td>\n",
       "      <td>0</td>\n",
       "      <td>0</td>\n",
       "      <td>0</td>\n",
       "      <td>0</td>\n",
       "      <td>0</td>\n",
       "      <td>0</td>\n",
       "      <td>1.0</td>\n",
       "    </tr>\n",
       "  </tbody>\n",
       "</table>\n",
       "</div>"
      ],
      "text/plain": [
       "   covid  lag1  dia_Monday  dia_Saturday  dia_Friday  dia_Thursday  \\\n",
       "0      1   8.0           1             0           0             0   \n",
       "\n",
       "   dia_Tuesday  dia_Wednesday  mes_August  mes_April  mes_February  \\\n",
       "0            0              0           0          0             1   \n",
       "\n",
       "   mes_January  mes_July  mes_June  mes_March  mes_May  mes_November  \\\n",
       "0            0         0         0          0        0             0   \n",
       "\n",
       "   mes_October  mes_September  const  \n",
       "0            0              0    1.0  "
      ]
     },
     "execution_count": 194,
     "metadata": {},
     "output_type": "execute_result"
    }
   ],
   "source": [
    "X_n[X_n.index==0]"
   ]
  },
  {
   "cell_type": "code",
   "execution_count": 196,
   "id": "1ed6f9ab",
   "metadata": {},
   "outputs": [
    {
     "data": {
      "text/plain": [
       "RangeIndex(start=0, stop=121, step=1)"
      ]
     },
     "execution_count": 196,
     "metadata": {},
     "output_type": "execute_result"
    }
   ],
   "source": [
    "X_n.index"
   ]
  },
  {
   "cell_type": "code",
   "execution_count": 197,
   "id": "4a427d68",
   "metadata": {},
   "outputs": [],
   "source": [
    "nuevas_pred=pd.DataFrame()"
   ]
  },
  {
   "cell_type": "code",
   "execution_count": 200,
   "id": "c3c6636c",
   "metadata": {},
   "outputs": [],
   "source": [
    "nuevas_pred[\"Fecha\"]=lista_fechas\n",
    "nuevas_pred[\"predicciones\"]=np.nan"
   ]
  },
  {
   "cell_type": "code",
   "execution_count": 201,
   "id": "cca91903",
   "metadata": {},
   "outputs": [],
   "source": [
    "for i in X_n.index:\n",
    "    pre=linreg.predict(X_n[X_n.index==i])\n",
    "    nuevas_pred.loc[i,\"predicciones\"]=pre\n",
    "    if i!=len(X_n.index)-1:\n",
    "        X_n.loc[i+1, \"lag1\"] = pre\n",
    "    \n",
    "    \n",
    "    "
   ]
  },
  {
   "cell_type": "code",
   "execution_count": 203,
   "id": "66f0fbc4",
   "metadata": {},
   "outputs": [
    {
     "data": {
      "text/html": [
       "<div>\n",
       "<style scoped>\n",
       "    .dataframe tbody tr th:only-of-type {\n",
       "        vertical-align: middle;\n",
       "    }\n",
       "\n",
       "    .dataframe tbody tr th {\n",
       "        vertical-align: top;\n",
       "    }\n",
       "\n",
       "    .dataframe thead th {\n",
       "        text-align: right;\n",
       "    }\n",
       "</style>\n",
       "<table border=\"1\" class=\"dataframe\">\n",
       "  <thead>\n",
       "    <tr style=\"text-align: right;\">\n",
       "      <th></th>\n",
       "      <th>covid</th>\n",
       "      <th>lag1</th>\n",
       "      <th>dia_Monday</th>\n",
       "      <th>dia_Saturday</th>\n",
       "      <th>dia_Friday</th>\n",
       "      <th>dia_Thursday</th>\n",
       "      <th>dia_Tuesday</th>\n",
       "      <th>dia_Wednesday</th>\n",
       "      <th>mes_August</th>\n",
       "      <th>mes_April</th>\n",
       "      <th>mes_February</th>\n",
       "      <th>mes_January</th>\n",
       "      <th>mes_July</th>\n",
       "      <th>mes_June</th>\n",
       "      <th>mes_March</th>\n",
       "      <th>mes_May</th>\n",
       "      <th>mes_November</th>\n",
       "      <th>mes_October</th>\n",
       "      <th>mes_September</th>\n",
       "      <th>const</th>\n",
       "    </tr>\n",
       "  </thead>\n",
       "  <tbody>\n",
       "    <tr>\n",
       "      <th>0</th>\n",
       "      <td>1</td>\n",
       "      <td>8.000000</td>\n",
       "      <td>1</td>\n",
       "      <td>0</td>\n",
       "      <td>0</td>\n",
       "      <td>0</td>\n",
       "      <td>0</td>\n",
       "      <td>0</td>\n",
       "      <td>0</td>\n",
       "      <td>0</td>\n",
       "      <td>1</td>\n",
       "      <td>0</td>\n",
       "      <td>0</td>\n",
       "      <td>0</td>\n",
       "      <td>0</td>\n",
       "      <td>0</td>\n",
       "      <td>0</td>\n",
       "      <td>0</td>\n",
       "      <td>0</td>\n",
       "      <td>1.0</td>\n",
       "    </tr>\n",
       "    <tr>\n",
       "      <th>1</th>\n",
       "      <td>1</td>\n",
       "      <td>24.267760</td>\n",
       "      <td>0</td>\n",
       "      <td>0</td>\n",
       "      <td>0</td>\n",
       "      <td>0</td>\n",
       "      <td>1</td>\n",
       "      <td>0</td>\n",
       "      <td>0</td>\n",
       "      <td>0</td>\n",
       "      <td>1</td>\n",
       "      <td>0</td>\n",
       "      <td>0</td>\n",
       "      <td>0</td>\n",
       "      <td>0</td>\n",
       "      <td>0</td>\n",
       "      <td>0</td>\n",
       "      <td>0</td>\n",
       "      <td>0</td>\n",
       "      <td>1.0</td>\n",
       "    </tr>\n",
       "    <tr>\n",
       "      <th>2</th>\n",
       "      <td>1</td>\n",
       "      <td>29.869033</td>\n",
       "      <td>0</td>\n",
       "      <td>0</td>\n",
       "      <td>0</td>\n",
       "      <td>0</td>\n",
       "      <td>0</td>\n",
       "      <td>1</td>\n",
       "      <td>0</td>\n",
       "      <td>0</td>\n",
       "      <td>1</td>\n",
       "      <td>0</td>\n",
       "      <td>0</td>\n",
       "      <td>0</td>\n",
       "      <td>0</td>\n",
       "      <td>0</td>\n",
       "      <td>0</td>\n",
       "      <td>0</td>\n",
       "      <td>0</td>\n",
       "      <td>1.0</td>\n",
       "    </tr>\n",
       "    <tr>\n",
       "      <th>3</th>\n",
       "      <td>1</td>\n",
       "      <td>32.955330</td>\n",
       "      <td>0</td>\n",
       "      <td>0</td>\n",
       "      <td>0</td>\n",
       "      <td>1</td>\n",
       "      <td>0</td>\n",
       "      <td>0</td>\n",
       "      <td>0</td>\n",
       "      <td>0</td>\n",
       "      <td>1</td>\n",
       "      <td>0</td>\n",
       "      <td>0</td>\n",
       "      <td>0</td>\n",
       "      <td>0</td>\n",
       "      <td>0</td>\n",
       "      <td>0</td>\n",
       "      <td>0</td>\n",
       "      <td>0</td>\n",
       "      <td>1.0</td>\n",
       "    </tr>\n",
       "    <tr>\n",
       "      <th>4</th>\n",
       "      <td>1</td>\n",
       "      <td>34.380116</td>\n",
       "      <td>0</td>\n",
       "      <td>0</td>\n",
       "      <td>1</td>\n",
       "      <td>0</td>\n",
       "      <td>0</td>\n",
       "      <td>0</td>\n",
       "      <td>0</td>\n",
       "      <td>0</td>\n",
       "      <td>1</td>\n",
       "      <td>0</td>\n",
       "      <td>0</td>\n",
       "      <td>0</td>\n",
       "      <td>0</td>\n",
       "      <td>0</td>\n",
       "      <td>0</td>\n",
       "      <td>0</td>\n",
       "      <td>0</td>\n",
       "      <td>1.0</td>\n",
       "    </tr>\n",
       "    <tr>\n",
       "      <th>...</th>\n",
       "      <td>...</td>\n",
       "      <td>...</td>\n",
       "      <td>...</td>\n",
       "      <td>...</td>\n",
       "      <td>...</td>\n",
       "      <td>...</td>\n",
       "      <td>...</td>\n",
       "      <td>...</td>\n",
       "      <td>...</td>\n",
       "      <td>...</td>\n",
       "      <td>...</td>\n",
       "      <td>...</td>\n",
       "      <td>...</td>\n",
       "      <td>...</td>\n",
       "      <td>...</td>\n",
       "      <td>...</td>\n",
       "      <td>...</td>\n",
       "      <td>...</td>\n",
       "      <td>...</td>\n",
       "      <td>...</td>\n",
       "    </tr>\n",
       "    <tr>\n",
       "      <th>116</th>\n",
       "      <td>1</td>\n",
       "      <td>34.338457</td>\n",
       "      <td>0</td>\n",
       "      <td>0</td>\n",
       "      <td>1</td>\n",
       "      <td>0</td>\n",
       "      <td>0</td>\n",
       "      <td>0</td>\n",
       "      <td>0</td>\n",
       "      <td>0</td>\n",
       "      <td>0</td>\n",
       "      <td>0</td>\n",
       "      <td>0</td>\n",
       "      <td>1</td>\n",
       "      <td>0</td>\n",
       "      <td>0</td>\n",
       "      <td>0</td>\n",
       "      <td>0</td>\n",
       "      <td>0</td>\n",
       "      <td>1.0</td>\n",
       "    </tr>\n",
       "    <tr>\n",
       "      <th>117</th>\n",
       "      <td>1</td>\n",
       "      <td>34.289113</td>\n",
       "      <td>0</td>\n",
       "      <td>1</td>\n",
       "      <td>0</td>\n",
       "      <td>0</td>\n",
       "      <td>0</td>\n",
       "      <td>0</td>\n",
       "      <td>0</td>\n",
       "      <td>0</td>\n",
       "      <td>0</td>\n",
       "      <td>0</td>\n",
       "      <td>0</td>\n",
       "      <td>1</td>\n",
       "      <td>0</td>\n",
       "      <td>0</td>\n",
       "      <td>0</td>\n",
       "      <td>0</td>\n",
       "      <td>0</td>\n",
       "      <td>1.0</td>\n",
       "    </tr>\n",
       "    <tr>\n",
       "      <th>118</th>\n",
       "      <td>1</td>\n",
       "      <td>30.018588</td>\n",
       "      <td>0</td>\n",
       "      <td>0</td>\n",
       "      <td>0</td>\n",
       "      <td>0</td>\n",
       "      <td>0</td>\n",
       "      <td>0</td>\n",
       "      <td>0</td>\n",
       "      <td>0</td>\n",
       "      <td>0</td>\n",
       "      <td>0</td>\n",
       "      <td>0</td>\n",
       "      <td>1</td>\n",
       "      <td>0</td>\n",
       "      <td>0</td>\n",
       "      <td>0</td>\n",
       "      <td>0</td>\n",
       "      <td>0</td>\n",
       "      <td>1.0</td>\n",
       "    </tr>\n",
       "    <tr>\n",
       "      <th>119</th>\n",
       "      <td>1</td>\n",
       "      <td>29.367237</td>\n",
       "      <td>1</td>\n",
       "      <td>0</td>\n",
       "      <td>0</td>\n",
       "      <td>0</td>\n",
       "      <td>0</td>\n",
       "      <td>0</td>\n",
       "      <td>0</td>\n",
       "      <td>0</td>\n",
       "      <td>0</td>\n",
       "      <td>0</td>\n",
       "      <td>0</td>\n",
       "      <td>1</td>\n",
       "      <td>0</td>\n",
       "      <td>0</td>\n",
       "      <td>0</td>\n",
       "      <td>0</td>\n",
       "      <td>0</td>\n",
       "      <td>1.0</td>\n",
       "    </tr>\n",
       "    <tr>\n",
       "      <th>120</th>\n",
       "      <td>1</td>\n",
       "      <td>35.539331</td>\n",
       "      <td>0</td>\n",
       "      <td>0</td>\n",
       "      <td>0</td>\n",
       "      <td>0</td>\n",
       "      <td>1</td>\n",
       "      <td>0</td>\n",
       "      <td>0</td>\n",
       "      <td>0</td>\n",
       "      <td>0</td>\n",
       "      <td>0</td>\n",
       "      <td>0</td>\n",
       "      <td>1</td>\n",
       "      <td>0</td>\n",
       "      <td>0</td>\n",
       "      <td>0</td>\n",
       "      <td>0</td>\n",
       "      <td>0</td>\n",
       "      <td>1.0</td>\n",
       "    </tr>\n",
       "  </tbody>\n",
       "</table>\n",
       "<p>121 rows × 20 columns</p>\n",
       "</div>"
      ],
      "text/plain": [
       "     covid       lag1  dia_Monday  dia_Saturday  dia_Friday  dia_Thursday  \\\n",
       "0        1   8.000000           1             0           0             0   \n",
       "1        1  24.267760           0             0           0             0   \n",
       "2        1  29.869033           0             0           0             0   \n",
       "3        1  32.955330           0             0           0             1   \n",
       "4        1  34.380116           0             0           1             0   \n",
       "..     ...        ...         ...           ...         ...           ...   \n",
       "116      1  34.338457           0             0           1             0   \n",
       "117      1  34.289113           0             1           0             0   \n",
       "118      1  30.018588           0             0           0             0   \n",
       "119      1  29.367237           1             0           0             0   \n",
       "120      1  35.539331           0             0           0             0   \n",
       "\n",
       "     dia_Tuesday  dia_Wednesday  mes_August  mes_April  mes_February  \\\n",
       "0              0              0           0          0             1   \n",
       "1              1              0           0          0             1   \n",
       "2              0              1           0          0             1   \n",
       "3              0              0           0          0             1   \n",
       "4              0              0           0          0             1   \n",
       "..           ...            ...         ...        ...           ...   \n",
       "116            0              0           0          0             0   \n",
       "117            0              0           0          0             0   \n",
       "118            0              0           0          0             0   \n",
       "119            0              0           0          0             0   \n",
       "120            1              0           0          0             0   \n",
       "\n",
       "     mes_January  mes_July  mes_June  mes_March  mes_May  mes_November  \\\n",
       "0              0         0         0          0        0             0   \n",
       "1              0         0         0          0        0             0   \n",
       "2              0         0         0          0        0             0   \n",
       "3              0         0         0          0        0             0   \n",
       "4              0         0         0          0        0             0   \n",
       "..           ...       ...       ...        ...      ...           ...   \n",
       "116            0         0         1          0        0             0   \n",
       "117            0         0         1          0        0             0   \n",
       "118            0         0         1          0        0             0   \n",
       "119            0         0         1          0        0             0   \n",
       "120            0         0         1          0        0             0   \n",
       "\n",
       "     mes_October  mes_September  const  \n",
       "0              0              0    1.0  \n",
       "1              0              0    1.0  \n",
       "2              0              0    1.0  \n",
       "3              0              0    1.0  \n",
       "4              0              0    1.0  \n",
       "..           ...            ...    ...  \n",
       "116            0              0    1.0  \n",
       "117            0              0    1.0  \n",
       "118            0              0    1.0  \n",
       "119            0              0    1.0  \n",
       "120            0              0    1.0  \n",
       "\n",
       "[121 rows x 20 columns]"
      ]
     },
     "execution_count": 203,
     "metadata": {},
     "output_type": "execute_result"
    }
   ],
   "source": [
    "X_n"
   ]
  },
  {
   "cell_type": "code",
   "execution_count": 202,
   "id": "26bdfb9d",
   "metadata": {},
   "outputs": [
    {
     "data": {
      "text/html": [
       "<div>\n",
       "<style scoped>\n",
       "    .dataframe tbody tr th:only-of-type {\n",
       "        vertical-align: middle;\n",
       "    }\n",
       "\n",
       "    .dataframe tbody tr th {\n",
       "        vertical-align: top;\n",
       "    }\n",
       "\n",
       "    .dataframe thead th {\n",
       "        text-align: right;\n",
       "    }\n",
       "</style>\n",
       "<table border=\"1\" class=\"dataframe\">\n",
       "  <thead>\n",
       "    <tr style=\"text-align: right;\">\n",
       "      <th></th>\n",
       "      <th>Fecha</th>\n",
       "      <th>predicciones</th>\n",
       "    </tr>\n",
       "  </thead>\n",
       "  <tbody>\n",
       "    <tr>\n",
       "      <th>0</th>\n",
       "      <td>2022-02-14</td>\n",
       "      <td>24.267760</td>\n",
       "    </tr>\n",
       "    <tr>\n",
       "      <th>1</th>\n",
       "      <td>2022-02-15</td>\n",
       "      <td>29.869033</td>\n",
       "    </tr>\n",
       "    <tr>\n",
       "      <th>2</th>\n",
       "      <td>2022-02-16</td>\n",
       "      <td>32.955330</td>\n",
       "    </tr>\n",
       "    <tr>\n",
       "      <th>3</th>\n",
       "      <td>2022-02-17</td>\n",
       "      <td>34.380116</td>\n",
       "    </tr>\n",
       "    <tr>\n",
       "      <th>4</th>\n",
       "      <td>2022-02-18</td>\n",
       "      <td>35.501077</td>\n",
       "    </tr>\n",
       "    <tr>\n",
       "      <th>...</th>\n",
       "      <td>...</td>\n",
       "      <td>...</td>\n",
       "    </tr>\n",
       "    <tr>\n",
       "      <th>116</th>\n",
       "      <td>2022-06-10</td>\n",
       "      <td>34.289113</td>\n",
       "    </tr>\n",
       "    <tr>\n",
       "      <th>117</th>\n",
       "      <td>2022-06-11</td>\n",
       "      <td>30.018588</td>\n",
       "    </tr>\n",
       "    <tr>\n",
       "      <th>118</th>\n",
       "      <td>2022-06-12</td>\n",
       "      <td>29.367237</td>\n",
       "    </tr>\n",
       "    <tr>\n",
       "      <th>119</th>\n",
       "      <td>2022-06-13</td>\n",
       "      <td>35.539331</td>\n",
       "    </tr>\n",
       "    <tr>\n",
       "      <th>120</th>\n",
       "      <td>2022-06-14</td>\n",
       "      <td>35.253817</td>\n",
       "    </tr>\n",
       "  </tbody>\n",
       "</table>\n",
       "<p>121 rows × 2 columns</p>\n",
       "</div>"
      ],
      "text/plain": [
       "         Fecha  predicciones\n",
       "0   2022-02-14     24.267760\n",
       "1   2022-02-15     29.869033\n",
       "2   2022-02-16     32.955330\n",
       "3   2022-02-17     34.380116\n",
       "4   2022-02-18     35.501077\n",
       "..         ...           ...\n",
       "116 2022-06-10     34.289113\n",
       "117 2022-06-11     30.018588\n",
       "118 2022-06-12     29.367237\n",
       "119 2022-06-13     35.539331\n",
       "120 2022-06-14     35.253817\n",
       "\n",
       "[121 rows x 2 columns]"
      ]
     },
     "execution_count": 202,
     "metadata": {},
     "output_type": "execute_result"
    }
   ],
   "source": [
    "nuevas_pred"
   ]
  },
  {
   "cell_type": "code",
   "execution_count": 204,
   "id": "ee5a1b72",
   "metadata": {},
   "outputs": [],
   "source": [
    "nuevas_pred.insert(1, 'llamadas', np.nan)"
   ]
  },
  {
   "cell_type": "code",
   "execution_count": 205,
   "id": "a9766203",
   "metadata": {},
   "outputs": [
    {
     "data": {
      "text/html": [
       "<div>\n",
       "<style scoped>\n",
       "    .dataframe tbody tr th:only-of-type {\n",
       "        vertical-align: middle;\n",
       "    }\n",
       "\n",
       "    .dataframe tbody tr th {\n",
       "        vertical-align: top;\n",
       "    }\n",
       "\n",
       "    .dataframe thead th {\n",
       "        text-align: right;\n",
       "    }\n",
       "</style>\n",
       "<table border=\"1\" class=\"dataframe\">\n",
       "  <thead>\n",
       "    <tr style=\"text-align: right;\">\n",
       "      <th></th>\n",
       "      <th>Fecha</th>\n",
       "      <th>llamadas</th>\n",
       "      <th>predicciones</th>\n",
       "    </tr>\n",
       "  </thead>\n",
       "  <tbody>\n",
       "    <tr>\n",
       "      <th>0</th>\n",
       "      <td>2022-02-14</td>\n",
       "      <td>NaN</td>\n",
       "      <td>24.267760</td>\n",
       "    </tr>\n",
       "    <tr>\n",
       "      <th>1</th>\n",
       "      <td>2022-02-15</td>\n",
       "      <td>NaN</td>\n",
       "      <td>29.869033</td>\n",
       "    </tr>\n",
       "    <tr>\n",
       "      <th>2</th>\n",
       "      <td>2022-02-16</td>\n",
       "      <td>NaN</td>\n",
       "      <td>32.955330</td>\n",
       "    </tr>\n",
       "    <tr>\n",
       "      <th>3</th>\n",
       "      <td>2022-02-17</td>\n",
       "      <td>NaN</td>\n",
       "      <td>34.380116</td>\n",
       "    </tr>\n",
       "    <tr>\n",
       "      <th>4</th>\n",
       "      <td>2022-02-18</td>\n",
       "      <td>NaN</td>\n",
       "      <td>35.501077</td>\n",
       "    </tr>\n",
       "    <tr>\n",
       "      <th>...</th>\n",
       "      <td>...</td>\n",
       "      <td>...</td>\n",
       "      <td>...</td>\n",
       "    </tr>\n",
       "    <tr>\n",
       "      <th>116</th>\n",
       "      <td>2022-06-10</td>\n",
       "      <td>NaN</td>\n",
       "      <td>34.289113</td>\n",
       "    </tr>\n",
       "    <tr>\n",
       "      <th>117</th>\n",
       "      <td>2022-06-11</td>\n",
       "      <td>NaN</td>\n",
       "      <td>30.018588</td>\n",
       "    </tr>\n",
       "    <tr>\n",
       "      <th>118</th>\n",
       "      <td>2022-06-12</td>\n",
       "      <td>NaN</td>\n",
       "      <td>29.367237</td>\n",
       "    </tr>\n",
       "    <tr>\n",
       "      <th>119</th>\n",
       "      <td>2022-06-13</td>\n",
       "      <td>NaN</td>\n",
       "      <td>35.539331</td>\n",
       "    </tr>\n",
       "    <tr>\n",
       "      <th>120</th>\n",
       "      <td>2022-06-14</td>\n",
       "      <td>NaN</td>\n",
       "      <td>35.253817</td>\n",
       "    </tr>\n",
       "  </tbody>\n",
       "</table>\n",
       "<p>121 rows × 3 columns</p>\n",
       "</div>"
      ],
      "text/plain": [
       "         Fecha  llamadas  predicciones\n",
       "0   2022-02-14       NaN     24.267760\n",
       "1   2022-02-15       NaN     29.869033\n",
       "2   2022-02-16       NaN     32.955330\n",
       "3   2022-02-17       NaN     34.380116\n",
       "4   2022-02-18       NaN     35.501077\n",
       "..         ...       ...           ...\n",
       "116 2022-06-10       NaN     34.289113\n",
       "117 2022-06-11       NaN     30.018588\n",
       "118 2022-06-12       NaN     29.367237\n",
       "119 2022-06-13       NaN     35.539331\n",
       "120 2022-06-14       NaN     35.253817\n",
       "\n",
       "[121 rows x 3 columns]"
      ]
     },
     "execution_count": 205,
     "metadata": {},
     "output_type": "execute_result"
    }
   ],
   "source": [
    "nuevas_pred"
   ]
  },
  {
   "cell_type": "code",
   "execution_count": 211,
   "id": "5e1df381",
   "metadata": {},
   "outputs": [],
   "source": [
    "predict.columns=[\"Fecha\",\"llamadas\",\"predicciones\"]"
   ]
  },
  {
   "cell_type": "code",
   "execution_count": 212,
   "id": "19c4b578",
   "metadata": {},
   "outputs": [
    {
     "data": {
      "text/html": [
       "<div>\n",
       "<style scoped>\n",
       "    .dataframe tbody tr th:only-of-type {\n",
       "        vertical-align: middle;\n",
       "    }\n",
       "\n",
       "    .dataframe tbody tr th {\n",
       "        vertical-align: top;\n",
       "    }\n",
       "\n",
       "    .dataframe thead th {\n",
       "        text-align: right;\n",
       "    }\n",
       "</style>\n",
       "<table border=\"1\" class=\"dataframe\">\n",
       "  <thead>\n",
       "    <tr style=\"text-align: right;\">\n",
       "      <th></th>\n",
       "      <th>Fecha</th>\n",
       "      <th>llamadas</th>\n",
       "      <th>predicciones</th>\n",
       "    </tr>\n",
       "  </thead>\n",
       "  <tbody>\n",
       "    <tr>\n",
       "      <th>0</th>\n",
       "      <td>2016-11-05</td>\n",
       "      <td>1</td>\n",
       "      <td>3.941824</td>\n",
       "    </tr>\n",
       "    <tr>\n",
       "      <th>1</th>\n",
       "      <td>2016-11-06</td>\n",
       "      <td>6</td>\n",
       "      <td>3.448216</td>\n",
       "    </tr>\n",
       "    <tr>\n",
       "      <th>2</th>\n",
       "      <td>2016-11-07</td>\n",
       "      <td>13</td>\n",
       "      <td>12.915614</td>\n",
       "    </tr>\n",
       "    <tr>\n",
       "      <th>3</th>\n",
       "      <td>2016-11-08</td>\n",
       "      <td>11</td>\n",
       "      <td>13.112852</td>\n",
       "    </tr>\n",
       "    <tr>\n",
       "      <th>4</th>\n",
       "      <td>2016-11-09</td>\n",
       "      <td>11</td>\n",
       "      <td>11.766845</td>\n",
       "    </tr>\n",
       "    <tr>\n",
       "      <th>...</th>\n",
       "      <td>...</td>\n",
       "      <td>...</td>\n",
       "      <td>...</td>\n",
       "    </tr>\n",
       "    <tr>\n",
       "      <th>1914</th>\n",
       "      <td>2022-02-09</td>\n",
       "      <td>28</td>\n",
       "      <td>24.868292</td>\n",
       "    </tr>\n",
       "    <tr>\n",
       "      <th>1915</th>\n",
       "      <td>2022-02-10</td>\n",
       "      <td>12</td>\n",
       "      <td>31.490661</td>\n",
       "    </tr>\n",
       "    <tr>\n",
       "      <th>1916</th>\n",
       "      <td>2022-02-11</td>\n",
       "      <td>20</td>\n",
       "      <td>22.451224</td>\n",
       "    </tr>\n",
       "    <tr>\n",
       "      <th>1917</th>\n",
       "      <td>2022-02-12</td>\n",
       "      <td>11</td>\n",
       "      <td>22.874275</td>\n",
       "    </tr>\n",
       "    <tr>\n",
       "      <th>1918</th>\n",
       "      <td>2022-02-13</td>\n",
       "      <td>8</td>\n",
       "      <td>19.465165</td>\n",
       "    </tr>\n",
       "  </tbody>\n",
       "</table>\n",
       "<p>1919 rows × 3 columns</p>\n",
       "</div>"
      ],
      "text/plain": [
       "          Fecha  llamadas  predicciones\n",
       "0    2016-11-05         1      3.941824\n",
       "1    2016-11-06         6      3.448216\n",
       "2    2016-11-07        13     12.915614\n",
       "3    2016-11-08        11     13.112852\n",
       "4    2016-11-09        11     11.766845\n",
       "...         ...       ...           ...\n",
       "1914 2022-02-09        28     24.868292\n",
       "1915 2022-02-10        12     31.490661\n",
       "1916 2022-02-11        20     22.451224\n",
       "1917 2022-02-12        11     22.874275\n",
       "1918 2022-02-13         8     19.465165\n",
       "\n",
       "[1919 rows x 3 columns]"
      ]
     },
     "execution_count": 212,
     "metadata": {},
     "output_type": "execute_result"
    }
   ],
   "source": [
    "predict"
   ]
  },
  {
   "cell_type": "code",
   "execution_count": 215,
   "id": "eac59a86",
   "metadata": {},
   "outputs": [],
   "source": [
    "resultados=pd.concat([predict, nuevas_pred], axis=0)"
   ]
  },
  {
   "cell_type": "code",
   "execution_count": 217,
   "id": "7c168982",
   "metadata": {},
   "outputs": [],
   "source": [
    "resultados.reset_index(inplace=True,drop=True)"
   ]
  },
  {
   "cell_type": "code",
   "execution_count": 218,
   "id": "9c5cabda",
   "metadata": {},
   "outputs": [
    {
     "data": {
      "text/html": [
       "<div>\n",
       "<style scoped>\n",
       "    .dataframe tbody tr th:only-of-type {\n",
       "        vertical-align: middle;\n",
       "    }\n",
       "\n",
       "    .dataframe tbody tr th {\n",
       "        vertical-align: top;\n",
       "    }\n",
       "\n",
       "    .dataframe thead th {\n",
       "        text-align: right;\n",
       "    }\n",
       "</style>\n",
       "<table border=\"1\" class=\"dataframe\">\n",
       "  <thead>\n",
       "    <tr style=\"text-align: right;\">\n",
       "      <th></th>\n",
       "      <th>Fecha</th>\n",
       "      <th>llamadas</th>\n",
       "      <th>predicciones</th>\n",
       "    </tr>\n",
       "  </thead>\n",
       "  <tbody>\n",
       "    <tr>\n",
       "      <th>0</th>\n",
       "      <td>2016-11-05</td>\n",
       "      <td>1.0</td>\n",
       "      <td>3.941824</td>\n",
       "    </tr>\n",
       "    <tr>\n",
       "      <th>1</th>\n",
       "      <td>2016-11-06</td>\n",
       "      <td>6.0</td>\n",
       "      <td>3.448216</td>\n",
       "    </tr>\n",
       "    <tr>\n",
       "      <th>2</th>\n",
       "      <td>2016-11-07</td>\n",
       "      <td>13.0</td>\n",
       "      <td>12.915614</td>\n",
       "    </tr>\n",
       "    <tr>\n",
       "      <th>3</th>\n",
       "      <td>2016-11-08</td>\n",
       "      <td>11.0</td>\n",
       "      <td>13.112852</td>\n",
       "    </tr>\n",
       "    <tr>\n",
       "      <th>4</th>\n",
       "      <td>2016-11-09</td>\n",
       "      <td>11.0</td>\n",
       "      <td>11.766845</td>\n",
       "    </tr>\n",
       "    <tr>\n",
       "      <th>...</th>\n",
       "      <td>...</td>\n",
       "      <td>...</td>\n",
       "      <td>...</td>\n",
       "    </tr>\n",
       "    <tr>\n",
       "      <th>2035</th>\n",
       "      <td>2022-06-10</td>\n",
       "      <td>NaN</td>\n",
       "      <td>34.289113</td>\n",
       "    </tr>\n",
       "    <tr>\n",
       "      <th>2036</th>\n",
       "      <td>2022-06-11</td>\n",
       "      <td>NaN</td>\n",
       "      <td>30.018588</td>\n",
       "    </tr>\n",
       "    <tr>\n",
       "      <th>2037</th>\n",
       "      <td>2022-06-12</td>\n",
       "      <td>NaN</td>\n",
       "      <td>29.367237</td>\n",
       "    </tr>\n",
       "    <tr>\n",
       "      <th>2038</th>\n",
       "      <td>2022-06-13</td>\n",
       "      <td>NaN</td>\n",
       "      <td>35.539331</td>\n",
       "    </tr>\n",
       "    <tr>\n",
       "      <th>2039</th>\n",
       "      <td>2022-06-14</td>\n",
       "      <td>NaN</td>\n",
       "      <td>35.253817</td>\n",
       "    </tr>\n",
       "  </tbody>\n",
       "</table>\n",
       "<p>2040 rows × 3 columns</p>\n",
       "</div>"
      ],
      "text/plain": [
       "          Fecha  llamadas  predicciones\n",
       "0    2016-11-05       1.0      3.941824\n",
       "1    2016-11-06       6.0      3.448216\n",
       "2    2016-11-07      13.0     12.915614\n",
       "3    2016-11-08      11.0     13.112852\n",
       "4    2016-11-09      11.0     11.766845\n",
       "...         ...       ...           ...\n",
       "2035 2022-06-10       NaN     34.289113\n",
       "2036 2022-06-11       NaN     30.018588\n",
       "2037 2022-06-12       NaN     29.367237\n",
       "2038 2022-06-13       NaN     35.539331\n",
       "2039 2022-06-14       NaN     35.253817\n",
       "\n",
       "[2040 rows x 3 columns]"
      ]
     },
     "execution_count": 218,
     "metadata": {},
     "output_type": "execute_result"
    }
   ],
   "source": [
    "resultados"
   ]
  },
  {
   "cell_type": "code",
   "execution_count": 219,
   "id": "ce2edc44",
   "metadata": {},
   "outputs": [],
   "source": [
    "resultados.to_csv(\"resultados.csv\")"
   ]
  },
  {
   "cell_type": "code",
   "execution_count": 226,
   "id": "98c1078b",
   "metadata": {},
   "outputs": [],
   "source": [
    "resultados1=resultados[(resultados.Fecha>=\"2022-02-14\")&(resultados.Fecha<=\"2022-02-14\")]"
   ]
  },
  {
   "cell_type": "code",
   "execution_count": 227,
   "id": "b22c9810",
   "metadata": {},
   "outputs": [
    {
     "data": {
      "text/plain": [
       "24.267760377553703"
      ]
     },
     "execution_count": 227,
     "metadata": {},
     "output_type": "execute_result"
    }
   ],
   "source": [
    "resultados1.predicciones.mean()"
   ]
  }
 ],
 "metadata": {
  "kernelspec": {
   "display_name": "Python 3",
   "language": "python",
   "name": "python3"
  },
  "language_info": {
   "codemirror_mode": {
    "name": "ipython",
    "version": 3
   },
   "file_extension": ".py",
   "mimetype": "text/x-python",
   "name": "python",
   "nbconvert_exporter": "python",
   "pygments_lexer": "ipython3",
   "version": "3.8.8"
  }
 },
 "nbformat": 4,
 "nbformat_minor": 5
}
